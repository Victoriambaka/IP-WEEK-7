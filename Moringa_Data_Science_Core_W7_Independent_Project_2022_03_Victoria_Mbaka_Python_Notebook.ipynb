{
  "nbformat": 4,
  "nbformat_minor": 0,
  "metadata": {
    "colab": {
      "name": "Moringa_Data_Science_Core_W7_Independent_Project_2022_03_Victoria_Mbaka_Python_Notebook",
      "provenance": [],
      "collapsed_sections": [
        "kLG2VTrnTvYL",
        "XecOwPNorl2W",
        "J4wfHZwQrs-t",
        "a9BPYqunry97",
        "7KMRBJ7zr9HD",
        "zSGyg6kWsBUl",
        "ckfufNrcUHeH",
        "6XC_g-zKxe-r",
        "vTbdjSrhVIiT",
        "lQ2G4ZPDVOXE",
        "xrmHVMVsVS--",
        "HPQviDmNtta8",
        "qjFHK1CKty7o",
        "HSsicSdvt4Zs"
      ],
      "toc_visible": true,
      "include_colab_link": true
    },
    "kernelspec": {
      "name": "python3",
      "display_name": "Python 3"
    }
  },
  "cells": [
    {
      "cell_type": "markdown",
      "metadata": {
        "id": "view-in-github",
        "colab_type": "text"
      },
      "source": [
        "<a href=\"https://colab.research.google.com/github/Victoriambaka/IP-WEEK-7/blob/main/Moringa_Data_Science_Core_W7_Independent_Project_2022_03_Victoria_Mbaka_Python_Notebook.ipynb\" target=\"_parent\"><img src=\"https://colab.research.google.com/assets/colab-badge.svg\" alt=\"Open In Colab\"/></a>"
      ]
    },
    {
      "cell_type": "markdown",
      "metadata": {
        "id": "xMxtPsqcTsSH"
      },
      "source": [
        "# Independent Project 7: Exploratory Data Analysis on financial inclusion \n",
        "#### This is a project that involves the analysis of data from four East African countries on the likelihood of a citizen owning a bank account. It is a vital step to understanding more about financial inclusion in Kenya, Tanzania, Uganda and Rwanda.\n",
        "\n",
        "It involves:\n",
        "\n",
        "*    Defining the question\n",
        "*    The metric for success\n",
        "*    The context\n",
        "*    Experimental design taken and the appropriateness of the available data to answer the given question\n",
        "\n",
        "*    Finding and dealing with outliers, anomalies, and missing data within the dataset.\n",
        "*    Performing univariate, bivariate and multivariate analysis recording observations.\n",
        "*    Implementing the solution by performing the respective analysis i.e. factor analysis, principal component analysis, and discriminant analysis.\n",
        "*    Challenging the solution by providing insights on how improvements can be made.\n",
        "\n",
        "\n"
      ]
    },
    {
      "cell_type": "markdown",
      "metadata": {
        "id": "kLG2VTrnTvYL"
      },
      "source": [
        "## 1. Defining the Question"
      ]
    },
    {
      "cell_type": "markdown",
      "metadata": {
        "id": "XecOwPNorl2W"
      },
      "source": [
        "### a) Specifying the Data Analytic Question"
      ]
    },
    {
      "cell_type": "markdown",
      "metadata": {
        "id": "HSWe1AMfx5DH"
      },
      "source": [
        "Figure out how we can predict which individuals are most likely to have or use a bank account"
      ]
    },
    {
      "cell_type": "markdown",
      "metadata": {
        "id": "J4wfHZwQrs-t"
      },
      "source": [
        "### b) Defining the Metric for Success\n",
        "*    Predicting individuals who are most likely to have a bank account"
      ]
    },
    {
      "cell_type": "markdown",
      "metadata": {
        "id": "a9BPYqunry97"
      },
      "source": [
        "### c) Understanding the context\n",
        "*    Investigatin financial inclusion in Rwanda, Kenya, Tanzania and Uganda, by predicting individuals most likely to have a bank account.\n",
        "\n"
      ]
    },
    {
      "cell_type": "markdown",
      "metadata": {
        "id": "7KMRBJ7zr9HD"
      },
      "source": [
        "### d) Recording the Experimental Design"
      ]
    },
    {
      "cell_type": "markdown",
      "metadata": {
        "id": "zSGyg6kWsBUl"
      },
      "source": [
        "### e) Data Relevance"
      ]
    },
    {
      "cell_type": "markdown",
      "metadata": {
        "id": "iUNbvIvnT7ep"
      },
      "source": [
        "## 2. Reading the Data"
      ]
    },
    {
      "cell_type": "code",
      "source": [
        "import pandas as pd\n",
        "import numpy as np\n",
        "import matplotlib.pyplot as plt\n",
        "import seaborn as sns"
      ],
      "metadata": {
        "id": "53rfky6x4G80"
      },
      "execution_count": null,
      "outputs": []
    },
    {
      "cell_type": "code",
      "metadata": {
        "id": "XJn2KjW-WMlG"
      },
      "source": [
        "# Loading the Data from the source i.e. csv\n",
        "#\n",
        "Data1 = pd.read_csv('http://bit.ly/FinancialDataset')"
      ],
      "execution_count": null,
      "outputs": []
    },
    {
      "cell_type": "markdown",
      "metadata": {
        "id": "OI3P3YnHUEBk"
      },
      "source": [
        "## 3. Checking the Data"
      ]
    },
    {
      "cell_type": "code",
      "metadata": {
        "id": "YjSVNwgptHxY",
        "colab": {
          "base_uri": "https://localhost:8080/"
        },
        "outputId": "63dae138-8a44-4704-bd4b-f30d1cb61d26"
      },
      "source": [
        "# Determining the no. of records in our dataset\n",
        "#\n",
        "Data1.shape"
      ],
      "execution_count": null,
      "outputs": [
        {
          "output_type": "execute_result",
          "data": {
            "text/plain": [
              "(23524, 13)"
            ]
          },
          "metadata": {},
          "execution_count": 217
        }
      ]
    },
    {
      "cell_type": "code",
      "metadata": {
        "id": "xHhTw5eKWr0n",
        "colab": {
          "base_uri": "https://localhost:8080/",
          "height": 388
        },
        "outputId": "06c4c857-47c5-4415-9e05-4f915d5cea4d"
      },
      "source": [
        "# Previewing the top of our dataset\n",
        "#\n",
        "Data1.head()"
      ],
      "execution_count": null,
      "outputs": [
        {
          "output_type": "execute_result",
          "data": {
            "text/plain": [
              "  country  year    uniqueid Has a Bank account Type of Location  \\\n",
              "0   Kenya  2018  uniqueid_1                Yes            Rural   \n",
              "1   Kenya  2018  uniqueid_2                 No            Rural   \n",
              "2   Kenya  2018  uniqueid_3                Yes            Urban   \n",
              "3   Kenya  2018  uniqueid_4                 No            Rural   \n",
              "4   Kenya  2018  uniqueid_5                 No            Urban   \n",
              "\n",
              "  Cell Phone Access  household_size  Respondent Age gender_of_respondent  \\\n",
              "0               Yes             3.0            24.0               Female   \n",
              "1                No             5.0            70.0               Female   \n",
              "2               Yes             5.0            26.0                 Male   \n",
              "3               Yes             5.0            34.0               Female   \n",
              "4                No             8.0            26.0                 Male   \n",
              "\n",
              "  The relathip with head           marital_status  \\\n",
              "0                 Spouse  Married/Living together   \n",
              "1      Head of Household                  Widowed   \n",
              "2         Other relative     Single/Never Married   \n",
              "3      Head of Household  Married/Living together   \n",
              "4                  Child     Single/Never Married   \n",
              "\n",
              "               Level of Educuation                Type of Job  \n",
              "0              Secondary education              Self employed  \n",
              "1              No formal education       Government Dependent  \n",
              "2  Vocational/Specialised training              Self employed  \n",
              "3                Primary education  Formally employed Private  \n",
              "4                Primary education        Informally employed  "
            ],
            "text/html": [
              "\n",
              "  <div id=\"df-7ea83197-5d1a-47b9-b459-2b691578dc9e\">\n",
              "    <div class=\"colab-df-container\">\n",
              "      <div>\n",
              "<style scoped>\n",
              "    .dataframe tbody tr th:only-of-type {\n",
              "        vertical-align: middle;\n",
              "    }\n",
              "\n",
              "    .dataframe tbody tr th {\n",
              "        vertical-align: top;\n",
              "    }\n",
              "\n",
              "    .dataframe thead th {\n",
              "        text-align: right;\n",
              "    }\n",
              "</style>\n",
              "<table border=\"1\" class=\"dataframe\">\n",
              "  <thead>\n",
              "    <tr style=\"text-align: right;\">\n",
              "      <th></th>\n",
              "      <th>country</th>\n",
              "      <th>year</th>\n",
              "      <th>uniqueid</th>\n",
              "      <th>Has a Bank account</th>\n",
              "      <th>Type of Location</th>\n",
              "      <th>Cell Phone Access</th>\n",
              "      <th>household_size</th>\n",
              "      <th>Respondent Age</th>\n",
              "      <th>gender_of_respondent</th>\n",
              "      <th>The relathip with head</th>\n",
              "      <th>marital_status</th>\n",
              "      <th>Level of Educuation</th>\n",
              "      <th>Type of Job</th>\n",
              "    </tr>\n",
              "  </thead>\n",
              "  <tbody>\n",
              "    <tr>\n",
              "      <th>0</th>\n",
              "      <td>Kenya</td>\n",
              "      <td>2018</td>\n",
              "      <td>uniqueid_1</td>\n",
              "      <td>Yes</td>\n",
              "      <td>Rural</td>\n",
              "      <td>Yes</td>\n",
              "      <td>3.0</td>\n",
              "      <td>24.0</td>\n",
              "      <td>Female</td>\n",
              "      <td>Spouse</td>\n",
              "      <td>Married/Living together</td>\n",
              "      <td>Secondary education</td>\n",
              "      <td>Self employed</td>\n",
              "    </tr>\n",
              "    <tr>\n",
              "      <th>1</th>\n",
              "      <td>Kenya</td>\n",
              "      <td>2018</td>\n",
              "      <td>uniqueid_2</td>\n",
              "      <td>No</td>\n",
              "      <td>Rural</td>\n",
              "      <td>No</td>\n",
              "      <td>5.0</td>\n",
              "      <td>70.0</td>\n",
              "      <td>Female</td>\n",
              "      <td>Head of Household</td>\n",
              "      <td>Widowed</td>\n",
              "      <td>No formal education</td>\n",
              "      <td>Government Dependent</td>\n",
              "    </tr>\n",
              "    <tr>\n",
              "      <th>2</th>\n",
              "      <td>Kenya</td>\n",
              "      <td>2018</td>\n",
              "      <td>uniqueid_3</td>\n",
              "      <td>Yes</td>\n",
              "      <td>Urban</td>\n",
              "      <td>Yes</td>\n",
              "      <td>5.0</td>\n",
              "      <td>26.0</td>\n",
              "      <td>Male</td>\n",
              "      <td>Other relative</td>\n",
              "      <td>Single/Never Married</td>\n",
              "      <td>Vocational/Specialised training</td>\n",
              "      <td>Self employed</td>\n",
              "    </tr>\n",
              "    <tr>\n",
              "      <th>3</th>\n",
              "      <td>Kenya</td>\n",
              "      <td>2018</td>\n",
              "      <td>uniqueid_4</td>\n",
              "      <td>No</td>\n",
              "      <td>Rural</td>\n",
              "      <td>Yes</td>\n",
              "      <td>5.0</td>\n",
              "      <td>34.0</td>\n",
              "      <td>Female</td>\n",
              "      <td>Head of Household</td>\n",
              "      <td>Married/Living together</td>\n",
              "      <td>Primary education</td>\n",
              "      <td>Formally employed Private</td>\n",
              "    </tr>\n",
              "    <tr>\n",
              "      <th>4</th>\n",
              "      <td>Kenya</td>\n",
              "      <td>2018</td>\n",
              "      <td>uniqueid_5</td>\n",
              "      <td>No</td>\n",
              "      <td>Urban</td>\n",
              "      <td>No</td>\n",
              "      <td>8.0</td>\n",
              "      <td>26.0</td>\n",
              "      <td>Male</td>\n",
              "      <td>Child</td>\n",
              "      <td>Single/Never Married</td>\n",
              "      <td>Primary education</td>\n",
              "      <td>Informally employed</td>\n",
              "    </tr>\n",
              "  </tbody>\n",
              "</table>\n",
              "</div>\n",
              "      <button class=\"colab-df-convert\" onclick=\"convertToInteractive('df-7ea83197-5d1a-47b9-b459-2b691578dc9e')\"\n",
              "              title=\"Convert this dataframe to an interactive table.\"\n",
              "              style=\"display:none;\">\n",
              "        \n",
              "  <svg xmlns=\"http://www.w3.org/2000/svg\" height=\"24px\"viewBox=\"0 0 24 24\"\n",
              "       width=\"24px\">\n",
              "    <path d=\"M0 0h24v24H0V0z\" fill=\"none\"/>\n",
              "    <path d=\"M18.56 5.44l.94 2.06.94-2.06 2.06-.94-2.06-.94-.94-2.06-.94 2.06-2.06.94zm-11 1L8.5 8.5l.94-2.06 2.06-.94-2.06-.94L8.5 2.5l-.94 2.06-2.06.94zm10 10l.94 2.06.94-2.06 2.06-.94-2.06-.94-.94-2.06-.94 2.06-2.06.94z\"/><path d=\"M17.41 7.96l-1.37-1.37c-.4-.4-.92-.59-1.43-.59-.52 0-1.04.2-1.43.59L10.3 9.45l-7.72 7.72c-.78.78-.78 2.05 0 2.83L4 21.41c.39.39.9.59 1.41.59.51 0 1.02-.2 1.41-.59l7.78-7.78 2.81-2.81c.8-.78.8-2.07 0-2.86zM5.41 20L4 18.59l7.72-7.72 1.47 1.35L5.41 20z\"/>\n",
              "  </svg>\n",
              "      </button>\n",
              "      \n",
              "  <style>\n",
              "    .colab-df-container {\n",
              "      display:flex;\n",
              "      flex-wrap:wrap;\n",
              "      gap: 12px;\n",
              "    }\n",
              "\n",
              "    .colab-df-convert {\n",
              "      background-color: #E8F0FE;\n",
              "      border: none;\n",
              "      border-radius: 50%;\n",
              "      cursor: pointer;\n",
              "      display: none;\n",
              "      fill: #1967D2;\n",
              "      height: 32px;\n",
              "      padding: 0 0 0 0;\n",
              "      width: 32px;\n",
              "    }\n",
              "\n",
              "    .colab-df-convert:hover {\n",
              "      background-color: #E2EBFA;\n",
              "      box-shadow: 0px 1px 2px rgba(60, 64, 67, 0.3), 0px 1px 3px 1px rgba(60, 64, 67, 0.15);\n",
              "      fill: #174EA6;\n",
              "    }\n",
              "\n",
              "    [theme=dark] .colab-df-convert {\n",
              "      background-color: #3B4455;\n",
              "      fill: #D2E3FC;\n",
              "    }\n",
              "\n",
              "    [theme=dark] .colab-df-convert:hover {\n",
              "      background-color: #434B5C;\n",
              "      box-shadow: 0px 1px 3px 1px rgba(0, 0, 0, 0.15);\n",
              "      filter: drop-shadow(0px 1px 2px rgba(0, 0, 0, 0.3));\n",
              "      fill: #FFFFFF;\n",
              "    }\n",
              "  </style>\n",
              "\n",
              "      <script>\n",
              "        const buttonEl =\n",
              "          document.querySelector('#df-7ea83197-5d1a-47b9-b459-2b691578dc9e button.colab-df-convert');\n",
              "        buttonEl.style.display =\n",
              "          google.colab.kernel.accessAllowed ? 'block' : 'none';\n",
              "\n",
              "        async function convertToInteractive(key) {\n",
              "          const element = document.querySelector('#df-7ea83197-5d1a-47b9-b459-2b691578dc9e');\n",
              "          const dataTable =\n",
              "            await google.colab.kernel.invokeFunction('convertToInteractive',\n",
              "                                                     [key], {});\n",
              "          if (!dataTable) return;\n",
              "\n",
              "          const docLinkHtml = 'Like what you see? Visit the ' +\n",
              "            '<a target=\"_blank\" href=https://colab.research.google.com/notebooks/data_table.ipynb>data table notebook</a>'\n",
              "            + ' to learn more about interactive tables.';\n",
              "          element.innerHTML = '';\n",
              "          dataTable['output_type'] = 'display_data';\n",
              "          await google.colab.output.renderOutput(dataTable, element);\n",
              "          const docLink = document.createElement('div');\n",
              "          docLink.innerHTML = docLinkHtml;\n",
              "          element.appendChild(docLink);\n",
              "        }\n",
              "      </script>\n",
              "    </div>\n",
              "  </div>\n",
              "  "
            ]
          },
          "metadata": {},
          "execution_count": 218
        }
      ]
    },
    {
      "cell_type": "code",
      "metadata": {
        "id": "e9AzGcZFrIIr",
        "colab": {
          "base_uri": "https://localhost:8080/",
          "height": 371
        },
        "outputId": "a5d2e8c4-a24b-4541-e2d5-6ddd56463d98"
      },
      "source": [
        "# Previewing the bottom of our dataset\n",
        "# \n",
        "Data1.tail()"
      ],
      "execution_count": null,
      "outputs": [
        {
          "output_type": "execute_result",
          "data": {
            "text/plain": [
              "      country  year       uniqueid Has a Bank account Type of Location  \\\n",
              "23519  Uganda  2018  uniqueid_2113                 No            Rural   \n",
              "23520  Uganda  2018  uniqueid_2114                 No            Rural   \n",
              "23521  Uganda  2018  uniqueid_2115                 No            Rural   \n",
              "23522  Uganda  2018  uniqueid_2116                 No            Urban   \n",
              "23523  Uganda  2018  uniqueid_2117                 No            Rural   \n",
              "\n",
              "      Cell Phone Access  household_size  Respondent Age gender_of_respondent  \\\n",
              "23519               Yes             4.0            48.0               Female   \n",
              "23520               Yes             2.0            27.0               Female   \n",
              "23521               Yes             5.0            27.0               Female   \n",
              "23522               Yes             7.0            30.0               Female   \n",
              "23523               Yes            10.0            20.0                 Male   \n",
              "\n",
              "      The relathip with head        marital_status  Level of Educuation  \\\n",
              "23519      Head of Household    Divorced/Seperated  No formal education   \n",
              "23520      Head of Household  Single/Never Married  Secondary education   \n",
              "23521                 Parent               Widowed    Primary education   \n",
              "23522                 Parent    Divorced/Seperated  Secondary education   \n",
              "23523                  Child  Single/Never Married  Secondary education   \n",
              "\n",
              "         Type of Job  \n",
              "23519   Other Income  \n",
              "23520   Other Income  \n",
              "23521   Other Income  \n",
              "23522  Self employed  \n",
              "23523      No Income  "
            ],
            "text/html": [
              "\n",
              "  <div id=\"df-2f7fe5ac-5247-4a5a-a385-1d41b912a6c5\">\n",
              "    <div class=\"colab-df-container\">\n",
              "      <div>\n",
              "<style scoped>\n",
              "    .dataframe tbody tr th:only-of-type {\n",
              "        vertical-align: middle;\n",
              "    }\n",
              "\n",
              "    .dataframe tbody tr th {\n",
              "        vertical-align: top;\n",
              "    }\n",
              "\n",
              "    .dataframe thead th {\n",
              "        text-align: right;\n",
              "    }\n",
              "</style>\n",
              "<table border=\"1\" class=\"dataframe\">\n",
              "  <thead>\n",
              "    <tr style=\"text-align: right;\">\n",
              "      <th></th>\n",
              "      <th>country</th>\n",
              "      <th>year</th>\n",
              "      <th>uniqueid</th>\n",
              "      <th>Has a Bank account</th>\n",
              "      <th>Type of Location</th>\n",
              "      <th>Cell Phone Access</th>\n",
              "      <th>household_size</th>\n",
              "      <th>Respondent Age</th>\n",
              "      <th>gender_of_respondent</th>\n",
              "      <th>The relathip with head</th>\n",
              "      <th>marital_status</th>\n",
              "      <th>Level of Educuation</th>\n",
              "      <th>Type of Job</th>\n",
              "    </tr>\n",
              "  </thead>\n",
              "  <tbody>\n",
              "    <tr>\n",
              "      <th>23519</th>\n",
              "      <td>Uganda</td>\n",
              "      <td>2018</td>\n",
              "      <td>uniqueid_2113</td>\n",
              "      <td>No</td>\n",
              "      <td>Rural</td>\n",
              "      <td>Yes</td>\n",
              "      <td>4.0</td>\n",
              "      <td>48.0</td>\n",
              "      <td>Female</td>\n",
              "      <td>Head of Household</td>\n",
              "      <td>Divorced/Seperated</td>\n",
              "      <td>No formal education</td>\n",
              "      <td>Other Income</td>\n",
              "    </tr>\n",
              "    <tr>\n",
              "      <th>23520</th>\n",
              "      <td>Uganda</td>\n",
              "      <td>2018</td>\n",
              "      <td>uniqueid_2114</td>\n",
              "      <td>No</td>\n",
              "      <td>Rural</td>\n",
              "      <td>Yes</td>\n",
              "      <td>2.0</td>\n",
              "      <td>27.0</td>\n",
              "      <td>Female</td>\n",
              "      <td>Head of Household</td>\n",
              "      <td>Single/Never Married</td>\n",
              "      <td>Secondary education</td>\n",
              "      <td>Other Income</td>\n",
              "    </tr>\n",
              "    <tr>\n",
              "      <th>23521</th>\n",
              "      <td>Uganda</td>\n",
              "      <td>2018</td>\n",
              "      <td>uniqueid_2115</td>\n",
              "      <td>No</td>\n",
              "      <td>Rural</td>\n",
              "      <td>Yes</td>\n",
              "      <td>5.0</td>\n",
              "      <td>27.0</td>\n",
              "      <td>Female</td>\n",
              "      <td>Parent</td>\n",
              "      <td>Widowed</td>\n",
              "      <td>Primary education</td>\n",
              "      <td>Other Income</td>\n",
              "    </tr>\n",
              "    <tr>\n",
              "      <th>23522</th>\n",
              "      <td>Uganda</td>\n",
              "      <td>2018</td>\n",
              "      <td>uniqueid_2116</td>\n",
              "      <td>No</td>\n",
              "      <td>Urban</td>\n",
              "      <td>Yes</td>\n",
              "      <td>7.0</td>\n",
              "      <td>30.0</td>\n",
              "      <td>Female</td>\n",
              "      <td>Parent</td>\n",
              "      <td>Divorced/Seperated</td>\n",
              "      <td>Secondary education</td>\n",
              "      <td>Self employed</td>\n",
              "    </tr>\n",
              "    <tr>\n",
              "      <th>23523</th>\n",
              "      <td>Uganda</td>\n",
              "      <td>2018</td>\n",
              "      <td>uniqueid_2117</td>\n",
              "      <td>No</td>\n",
              "      <td>Rural</td>\n",
              "      <td>Yes</td>\n",
              "      <td>10.0</td>\n",
              "      <td>20.0</td>\n",
              "      <td>Male</td>\n",
              "      <td>Child</td>\n",
              "      <td>Single/Never Married</td>\n",
              "      <td>Secondary education</td>\n",
              "      <td>No Income</td>\n",
              "    </tr>\n",
              "  </tbody>\n",
              "</table>\n",
              "</div>\n",
              "      <button class=\"colab-df-convert\" onclick=\"convertToInteractive('df-2f7fe5ac-5247-4a5a-a385-1d41b912a6c5')\"\n",
              "              title=\"Convert this dataframe to an interactive table.\"\n",
              "              style=\"display:none;\">\n",
              "        \n",
              "  <svg xmlns=\"http://www.w3.org/2000/svg\" height=\"24px\"viewBox=\"0 0 24 24\"\n",
              "       width=\"24px\">\n",
              "    <path d=\"M0 0h24v24H0V0z\" fill=\"none\"/>\n",
              "    <path d=\"M18.56 5.44l.94 2.06.94-2.06 2.06-.94-2.06-.94-.94-2.06-.94 2.06-2.06.94zm-11 1L8.5 8.5l.94-2.06 2.06-.94-2.06-.94L8.5 2.5l-.94 2.06-2.06.94zm10 10l.94 2.06.94-2.06 2.06-.94-2.06-.94-.94-2.06-.94 2.06-2.06.94z\"/><path d=\"M17.41 7.96l-1.37-1.37c-.4-.4-.92-.59-1.43-.59-.52 0-1.04.2-1.43.59L10.3 9.45l-7.72 7.72c-.78.78-.78 2.05 0 2.83L4 21.41c.39.39.9.59 1.41.59.51 0 1.02-.2 1.41-.59l7.78-7.78 2.81-2.81c.8-.78.8-2.07 0-2.86zM5.41 20L4 18.59l7.72-7.72 1.47 1.35L5.41 20z\"/>\n",
              "  </svg>\n",
              "      </button>\n",
              "      \n",
              "  <style>\n",
              "    .colab-df-container {\n",
              "      display:flex;\n",
              "      flex-wrap:wrap;\n",
              "      gap: 12px;\n",
              "    }\n",
              "\n",
              "    .colab-df-convert {\n",
              "      background-color: #E8F0FE;\n",
              "      border: none;\n",
              "      border-radius: 50%;\n",
              "      cursor: pointer;\n",
              "      display: none;\n",
              "      fill: #1967D2;\n",
              "      height: 32px;\n",
              "      padding: 0 0 0 0;\n",
              "      width: 32px;\n",
              "    }\n",
              "\n",
              "    .colab-df-convert:hover {\n",
              "      background-color: #E2EBFA;\n",
              "      box-shadow: 0px 1px 2px rgba(60, 64, 67, 0.3), 0px 1px 3px 1px rgba(60, 64, 67, 0.15);\n",
              "      fill: #174EA6;\n",
              "    }\n",
              "\n",
              "    [theme=dark] .colab-df-convert {\n",
              "      background-color: #3B4455;\n",
              "      fill: #D2E3FC;\n",
              "    }\n",
              "\n",
              "    [theme=dark] .colab-df-convert:hover {\n",
              "      background-color: #434B5C;\n",
              "      box-shadow: 0px 1px 3px 1px rgba(0, 0, 0, 0.15);\n",
              "      filter: drop-shadow(0px 1px 2px rgba(0, 0, 0, 0.3));\n",
              "      fill: #FFFFFF;\n",
              "    }\n",
              "  </style>\n",
              "\n",
              "      <script>\n",
              "        const buttonEl =\n",
              "          document.querySelector('#df-2f7fe5ac-5247-4a5a-a385-1d41b912a6c5 button.colab-df-convert');\n",
              "        buttonEl.style.display =\n",
              "          google.colab.kernel.accessAllowed ? 'block' : 'none';\n",
              "\n",
              "        async function convertToInteractive(key) {\n",
              "          const element = document.querySelector('#df-2f7fe5ac-5247-4a5a-a385-1d41b912a6c5');\n",
              "          const dataTable =\n",
              "            await google.colab.kernel.invokeFunction('convertToInteractive',\n",
              "                                                     [key], {});\n",
              "          if (!dataTable) return;\n",
              "\n",
              "          const docLinkHtml = 'Like what you see? Visit the ' +\n",
              "            '<a target=\"_blank\" href=https://colab.research.google.com/notebooks/data_table.ipynb>data table notebook</a>'\n",
              "            + ' to learn more about interactive tables.';\n",
              "          element.innerHTML = '';\n",
              "          dataTable['output_type'] = 'display_data';\n",
              "          await google.colab.output.renderOutput(dataTable, element);\n",
              "          const docLink = document.createElement('div');\n",
              "          docLink.innerHTML = docLinkHtml;\n",
              "          element.appendChild(docLink);\n",
              "        }\n",
              "      </script>\n",
              "    </div>\n",
              "  </div>\n",
              "  "
            ]
          },
          "metadata": {},
          "execution_count": 219
        }
      ]
    },
    {
      "cell_type": "code",
      "metadata": {
        "id": "n8-dW4sQWzbc",
        "colab": {
          "base_uri": "https://localhost:8080/"
        },
        "outputId": "f84f3c05-f362-4df6-da00-0dfd1020fe93"
      },
      "source": [
        "# Checking whether each column has an appropriate datatype\n",
        "#\n",
        "Data1.dtypes"
      ],
      "execution_count": 326,
      "outputs": [
        {
          "output_type": "execute_result",
          "data": {
            "text/plain": [
              "country                    object\n",
              "year                        int64\n",
              "uniqueid                   object\n",
              "Has a Bank account         object\n",
              "Type of Location           object\n",
              "Cell Phone Access          object\n",
              "household_size            float64\n",
              "Respondent Age            float64\n",
              "gender_of_respondent       object\n",
              "The relathip with head     object\n",
              "marital_status             object\n",
              "Level of Educuation        object\n",
              "Type of Job                object\n",
              "dtype: object"
            ]
          },
          "metadata": {},
          "execution_count": 326
        }
      ]
    },
    {
      "cell_type": "markdown",
      "source": [
        ""
      ],
      "metadata": {
        "id": "OdBzPty_cctz"
      }
    },
    {
      "cell_type": "markdown",
      "metadata": {
        "id": "ckfufNrcUHeH"
      },
      "source": [
        "## 4. External Data Source Validation"
      ]
    },
    {
      "cell_type": "markdown",
      "metadata": {
        "id": "6L4sl_0WXlbg"
      },
      "source": [
        "Making sure your data matches something outside of the dataset is very important. It allows you to ensure that the measurements are roughly in line with what they should be and it serves as a check on what other things might be wrong in your dataset. External validation can often be as simple as checking your data against a single number, as we will do here.\n",
        "\n",
        "An example would be suppose that you're working with a dataset on the population of countries during the year 2016. Validating such information with an external reliable resource such as World Bank Data would be important step to providing credibility to your dataset. Have a look at the following link for an example. [Link](https://rstudio-pubs-static.s3.amazonaws.com/182250_19977d0c5c06403fbad1e653850fc7c6.html)."
      ]
    },
    {
      "cell_type": "markdown",
      "metadata": {
        "id": "6XC_g-zKxe-r"
      },
      "source": [
        "### a.Validation"
      ]
    },
    {
      "cell_type": "markdown",
      "metadata": {
        "id": "FlBMxEDBUc9B"
      },
      "source": [
        "## 5. Tidying the Dataset"
      ]
    },
    {
      "cell_type": "code",
      "metadata": {
        "id": "5o_bQcT5W3Wz",
        "colab": {
          "base_uri": "https://localhost:8080/",
          "height": 341
        },
        "outputId": "5543cabb-9d17-4e9c-c3d3-be5a8ff6a372"
      },
      "source": [
        "# Checking for Outliers\n",
        "Data1.boxplot()\n",
        "\n",
        "# We will not remove the outlietrs since this is a sensitive dataset where every piece of data is validity."
      ],
      "execution_count": null,
      "outputs": [
        {
          "output_type": "stream",
          "name": "stderr",
          "text": [
            "/usr/local/lib/python3.7/dist-packages/matplotlib/cbook/__init__.py:1376: VisibleDeprecationWarning: Creating an ndarray from ragged nested sequences (which is a list-or-tuple of lists-or-tuples-or ndarrays with different lengths or shapes) is deprecated. If you meant to do this, you must specify 'dtype=object' when creating the ndarray.\n",
            "  X = np.atleast_1d(X.T if isinstance(X, np.ndarray) else np.asarray(X))\n"
          ]
        },
        {
          "output_type": "execute_result",
          "data": {
            "text/plain": [
              "<matplotlib.axes._subplots.AxesSubplot at 0x7f9a5bdcc610>"
            ]
          },
          "metadata": {},
          "execution_count": 221
        },
        {
          "output_type": "display_data",
          "data": {
            "text/plain": [
              "<Figure size 432x288 with 1 Axes>"
            ],
            "image/png": "[encoded data removed]"
          },
          "metadata": {
            "needs_background": "light"
          }
        }
      ]
    },
    {
      "cell_type": "code",
      "metadata": {
        "id": "PWlukLKUvFQN",
        "colab": {
          "base_uri": "https://localhost:8080/"
        },
        "outputId": "a8784fbd-cd9b-47e3-92fe-20df179baa14"
      },
      "source": [
        "# Checking for Anomalies\n",
        "#\n",
        "Data1.duplicated().sum() # There are no duplicates"
      ],
      "execution_count": null,
      "outputs": [
        {
          "output_type": "execute_result",
          "data": {
            "text/plain": [
              "0"
            ]
          },
          "metadata": {},
          "execution_count": 222
        }
      ]
    },
    {
      "cell_type": "code",
      "source": [
        "# Supposed duplicated indices\n",
        "Data1 = Data1.loc[~Data.index.duplicated()]"
      ],
      "metadata": {
        "id": "LTY6RwrbZZzs"
      },
      "execution_count": null,
      "outputs": []
    },
    {
      "cell_type": "code",
      "metadata": {
        "id": "PvCYb6dgW4yh",
        "colab": {
          "base_uri": "https://localhost:8080/"
        },
        "outputId": "5db7a0a4-967f-41cf-b4c1-079a27ab1fa8"
      },
      "source": [
        "# Identifying the Missing Data\n",
        "#\n",
        "Data1.isnull().sum()"
      ],
      "execution_count": null,
      "outputs": [
        {
          "output_type": "execute_result",
          "data": {
            "text/plain": [
              "country                   14\n",
              "year                       0\n",
              "uniqueid                   0\n",
              "Has a Bank account        36\n",
              "Type of Location          15\n",
              "Cell Phone Access         11\n",
              "household_size            28\n",
              "Respondent Age            34\n",
              "gender_of_respondent      34\n",
              "The relathip with head     4\n",
              "marital_status            32\n",
              "Level of Educuation       29\n",
              "Type of Job               30\n",
              "dtype: int64"
            ]
          },
          "metadata": {},
          "execution_count": 224
        }
      ]
    },
    {
      "cell_type": "code",
      "metadata": {
        "id": "MpsDGKZHsf_W",
        "colab": {
          "base_uri": "https://localhost:8080/"
        },
        "outputId": "59bfdbe7-55a9-45e3-bb1f-655b1297d2fb"
      },
      "source": [
        "# Dealing with the Missing Data\n",
        "#\n",
        "Data = Data1.fillna(0)\n",
        "Data.isnull().sum() # Missing data was replaced with zeroes."
      ],
      "execution_count": null,
      "outputs": [
        {
          "output_type": "execute_result",
          "data": {
            "text/plain": [
              "country                   0\n",
              "year                      0\n",
              "uniqueid                  0\n",
              "Has a Bank account        0\n",
              "Type of Location          0\n",
              "Cell Phone Access         0\n",
              "household_size            0\n",
              "Respondent Age            0\n",
              "gender_of_respondent      0\n",
              "The relathip with head    0\n",
              "marital_status            0\n",
              "Level of Educuation       0\n",
              "Type of Job               0\n",
              "dtype: int64"
            ]
          },
          "metadata": {},
          "execution_count": 225
        }
      ]
    },
    {
      "cell_type": "code",
      "source": [
        "# Changing column names to make them more sensible. \n",
        "columns = ['country', 'year','uniqueid', 'Has a bank account', 'Type of location', 'Cell Phone Access', 'Household_size', 'Respondent Age', 'Gender', 'Relationship with head', 'Marital_status', 'Level of Education', 'Type of Job']\n",
        "Data.columns = columns\n",
        "Data = Data.reset_index(drop = True)\n",
        "Data.head()\n",
        "\n"
      ],
      "metadata": {
        "colab": {
          "base_uri": "https://localhost:8080/",
          "height": 354
        },
        "id": "KCfpjniytNKg",
        "outputId": "82c3044d-799e-4e51-e55b-995521f11b00"
      },
      "execution_count": null,
      "outputs": [
        {
          "output_type": "execute_result",
          "data": {
            "text/plain": [
              "  country  year    uniqueid Has a bank account Type of location  \\\n",
              "0   Kenya  2018  uniqueid_1                Yes            Rural   \n",
              "1   Kenya  2018  uniqueid_2                 No            Rural   \n",
              "2   Kenya  2018  uniqueid_3                Yes            Urban   \n",
              "3   Kenya  2018  uniqueid_4                 No            Rural   \n",
              "4   Kenya  2018  uniqueid_5                 No            Urban   \n",
              "\n",
              "  Cell Phone Access  Household_size  Respondent Age  Gender  \\\n",
              "0               Yes             3.0            24.0  Female   \n",
              "1                No             5.0            70.0  Female   \n",
              "2               Yes             5.0            26.0    Male   \n",
              "3               Yes             5.0            34.0  Female   \n",
              "4                No             8.0            26.0    Male   \n",
              "\n",
              "  Relationship with head           Marital_status  \\\n",
              "0                 Spouse  Married/Living together   \n",
              "1      Head of Household                  Widowed   \n",
              "2         Other relative     Single/Never Married   \n",
              "3      Head of Household  Married/Living together   \n",
              "4                  Child     Single/Never Married   \n",
              "\n",
              "                Level of Education                Type of Job  \n",
              "0              Secondary education              Self employed  \n",
              "1              No formal education       Government Dependent  \n",
              "2  Vocational/Specialised training              Self employed  \n",
              "3                Primary education  Formally employed Private  \n",
              "4                Primary education        Informally employed  "
            ],
            "text/html": [
              "\n",
              "  <div id=\"df-15673578-3838-4c66-894d-8d8f406cf713\">\n",
              "    <div class=\"colab-df-container\">\n",
              "      <div>\n",
              "<style scoped>\n",
              "    .dataframe tbody tr th:only-of-type {\n",
              "        vertical-align: middle;\n",
              "    }\n",
              "\n",
              "    .dataframe tbody tr th {\n",
              "        vertical-align: top;\n",
              "    }\n",
              "\n",
              "    .dataframe thead th {\n",
              "        text-align: right;\n",
              "    }\n",
              "</style>\n",
              "<table border=\"1\" class=\"dataframe\">\n",
              "  <thead>\n",
              "    <tr style=\"text-align: right;\">\n",
              "      <th></th>\n",
              "      <th>country</th>\n",
              "      <th>year</th>\n",
              "      <th>uniqueid</th>\n",
              "      <th>Has a bank account</th>\n",
              "      <th>Type of location</th>\n",
              "      <th>Cell Phone Access</th>\n",
              "      <th>Household_size</th>\n",
              "      <th>Respondent Age</th>\n",
              "      <th>Gender</th>\n",
              "      <th>Relationship with head</th>\n",
              "      <th>Marital_status</th>\n",
              "      <th>Level of Education</th>\n",
              "      <th>Type of Job</th>\n",
              "    </tr>\n",
              "  </thead>\n",
              "  <tbody>\n",
              "    <tr>\n",
              "      <th>0</th>\n",
              "      <td>Kenya</td>\n",
              "      <td>2018</td>\n",
              "      <td>uniqueid_1</td>\n",
              "      <td>Yes</td>\n",
              "      <td>Rural</td>\n",
              "      <td>Yes</td>\n",
              "      <td>3.0</td>\n",
              "      <td>24.0</td>\n",
              "      <td>Female</td>\n",
              "      <td>Spouse</td>\n",
              "      <td>Married/Living together</td>\n",
              "      <td>Secondary education</td>\n",
              "      <td>Self employed</td>\n",
              "    </tr>\n",
              "    <tr>\n",
              "      <th>1</th>\n",
              "      <td>Kenya</td>\n",
              "      <td>2018</td>\n",
              "      <td>uniqueid_2</td>\n",
              "      <td>No</td>\n",
              "      <td>Rural</td>\n",
              "      <td>No</td>\n",
              "      <td>5.0</td>\n",
              "      <td>70.0</td>\n",
              "      <td>Female</td>\n",
              "      <td>Head of Household</td>\n",
              "      <td>Widowed</td>\n",
              "      <td>No formal education</td>\n",
              "      <td>Government Dependent</td>\n",
              "    </tr>\n",
              "    <tr>\n",
              "      <th>2</th>\n",
              "      <td>Kenya</td>\n",
              "      <td>2018</td>\n",
              "      <td>uniqueid_3</td>\n",
              "      <td>Yes</td>\n",
              "      <td>Urban</td>\n",
              "      <td>Yes</td>\n",
              "      <td>5.0</td>\n",
              "      <td>26.0</td>\n",
              "      <td>Male</td>\n",
              "      <td>Other relative</td>\n",
              "      <td>Single/Never Married</td>\n",
              "      <td>Vocational/Specialised training</td>\n",
              "      <td>Self employed</td>\n",
              "    </tr>\n",
              "    <tr>\n",
              "      <th>3</th>\n",
              "      <td>Kenya</td>\n",
              "      <td>2018</td>\n",
              "      <td>uniqueid_4</td>\n",
              "      <td>No</td>\n",
              "      <td>Rural</td>\n",
              "      <td>Yes</td>\n",
              "      <td>5.0</td>\n",
              "      <td>34.0</td>\n",
              "      <td>Female</td>\n",
              "      <td>Head of Household</td>\n",
              "      <td>Married/Living together</td>\n",
              "      <td>Primary education</td>\n",
              "      <td>Formally employed Private</td>\n",
              "    </tr>\n",
              "    <tr>\n",
              "      <th>4</th>\n",
              "      <td>Kenya</td>\n",
              "      <td>2018</td>\n",
              "      <td>uniqueid_5</td>\n",
              "      <td>No</td>\n",
              "      <td>Urban</td>\n",
              "      <td>No</td>\n",
              "      <td>8.0</td>\n",
              "      <td>26.0</td>\n",
              "      <td>Male</td>\n",
              "      <td>Child</td>\n",
              "      <td>Single/Never Married</td>\n",
              "      <td>Primary education</td>\n",
              "      <td>Informally employed</td>\n",
              "    </tr>\n",
              "  </tbody>\n",
              "</table>\n",
              "</div>\n",
              "      <button class=\"colab-df-convert\" onclick=\"convertToInteractive('df-15673578-3838-4c66-894d-8d8f406cf713')\"\n",
              "              title=\"Convert this dataframe to an interactive table.\"\n",
              "              style=\"display:none;\">\n",
              "        \n",
              "  <svg xmlns=\"http://www.w3.org/2000/svg\" height=\"24px\"viewBox=\"0 0 24 24\"\n",
              "       width=\"24px\">\n",
              "    <path d=\"M0 0h24v24H0V0z\" fill=\"none\"/>\n",
              "    <path d=\"M18.56 5.44l.94 2.06.94-2.06 2.06-.94-2.06-.94-.94-2.06-.94 2.06-2.06.94zm-11 1L8.5 8.5l.94-2.06 2.06-.94-2.06-.94L8.5 2.5l-.94 2.06-2.06.94zm10 10l.94 2.06.94-2.06 2.06-.94-2.06-.94-.94-2.06-.94 2.06-2.06.94z\"/><path d=\"M17.41 7.96l-1.37-1.37c-.4-.4-.92-.59-1.43-.59-.52 0-1.04.2-1.43.59L10.3 9.45l-7.72 7.72c-.78.78-.78 2.05 0 2.83L4 21.41c.39.39.9.59 1.41.59.51 0 1.02-.2 1.41-.59l7.78-7.78 2.81-2.81c.8-.78.8-2.07 0-2.86zM5.41 20L4 18.59l7.72-7.72 1.47 1.35L5.41 20z\"/>\n",
              "  </svg>\n",
              "      </button>\n",
              "      \n",
              "  <style>\n",
              "    .colab-df-container {\n",
              "      display:flex;\n",
              "      flex-wrap:wrap;\n",
              "      gap: 12px;\n",
              "    }\n",
              "\n",
              "    .colab-df-convert {\n",
              "      background-color: #E8F0FE;\n",
              "      border: none;\n",
              "      border-radius: 50%;\n",
              "      cursor: pointer;\n",
              "      display: none;\n",
              "      fill: #1967D2;\n",
              "      height: 32px;\n",
              "      padding: 0 0 0 0;\n",
              "      width: 32px;\n",
              "    }\n",
              "\n",
              "    .colab-df-convert:hover {\n",
              "      background-color: #E2EBFA;\n",
              "      box-shadow: 0px 1px 2px rgba(60, 64, 67, 0.3), 0px 1px 3px 1px rgba(60, 64, 67, 0.15);\n",
              "      fill: #174EA6;\n",
              "    }\n",
              "\n",
              "    [theme=dark] .colab-df-convert {\n",
              "      background-color: #3B4455;\n",
              "      fill: #D2E3FC;\n",
              "    }\n",
              "\n",
              "    [theme=dark] .colab-df-convert:hover {\n",
              "      background-color: #434B5C;\n",
              "      box-shadow: 0px 1px 3px 1px rgba(0, 0, 0, 0.15);\n",
              "      filter: drop-shadow(0px 1px 2px rgba(0, 0, 0, 0.3));\n",
              "      fill: #FFFFFF;\n",
              "    }\n",
              "  </style>\n",
              "\n",
              "      <script>\n",
              "        const buttonEl =\n",
              "          document.querySelector('#df-15673578-3838-4c66-894d-8d8f406cf713 button.colab-df-convert');\n",
              "        buttonEl.style.display =\n",
              "          google.colab.kernel.accessAllowed ? 'block' : 'none';\n",
              "\n",
              "        async function convertToInteractive(key) {\n",
              "          const element = document.querySelector('#df-15673578-3838-4c66-894d-8d8f406cf713');\n",
              "          const dataTable =\n",
              "            await google.colab.kernel.invokeFunction('convertToInteractive',\n",
              "                                                     [key], {});\n",
              "          if (!dataTable) return;\n",
              "\n",
              "          const docLinkHtml = 'Like what you see? Visit the ' +\n",
              "            '<a target=\"_blank\" href=https://colab.research.google.com/notebooks/data_table.ipynb>data table notebook</a>'\n",
              "            + ' to learn more about interactive tables.';\n",
              "          element.innerHTML = '';\n",
              "          dataTable['output_type'] = 'display_data';\n",
              "          await google.colab.output.renderOutput(dataTable, element);\n",
              "          const docLink = document.createElement('div');\n",
              "          docLink.innerHTML = docLinkHtml;\n",
              "          element.appendChild(docLink);\n",
              "        }\n",
              "      </script>\n",
              "    </div>\n",
              "  </div>\n",
              "  "
            ]
          },
          "metadata": {},
          "execution_count": 226
        }
      ]
    },
    {
      "cell_type": "code",
      "source": [
        "# Determining the unique values of the columns of interest, so we know how to organise them to be mapped in the charts we will plot.\n",
        "Data['Relationship with head'].unique()"
      ],
      "metadata": {
        "colab": {
          "base_uri": "https://localhost:8080/"
        },
        "id": "plYPKN9zncU5",
        "outputId": "45664cb3-afd2-4370-e9d2-440e23bae490"
      },
      "execution_count": null,
      "outputs": [
        {
          "output_type": "execute_result",
          "data": {
            "text/plain": [
              "array(['Spouse', 'Head of Household', 'Other relative', 'Child', 'Parent',\n",
              "       'Other non-relatives', 0], dtype=object)"
            ]
          },
          "metadata": {},
          "execution_count": 227
        }
      ]
    },
    {
      "cell_type": "code",
      "source": [
        "Data['Marital_status'].unique()"
      ],
      "metadata": {
        "colab": {
          "base_uri": "https://localhost:8080/"
        },
        "id": "gQjqSiPhnEg2",
        "outputId": "ec257500-4361-4d77-b7f4-ebb4b9844e86"
      },
      "execution_count": null,
      "outputs": [
        {
          "output_type": "execute_result",
          "data": {
            "text/plain": [
              "array(['Married/Living together', 'Widowed', 'Single/Never Married',\n",
              "       'Divorced/Seperated', 'Dont know', 0], dtype=object)"
            ]
          },
          "metadata": {},
          "execution_count": 228
        }
      ]
    },
    {
      "cell_type": "code",
      "source": [
        "Data['Type of location'].unique()"
      ],
      "metadata": {
        "colab": {
          "base_uri": "https://localhost:8080/"
        },
        "id": "XA_oF-BwmtKD",
        "outputId": "6fef04cf-3805-4046-8228-9ffb741b8243"
      },
      "execution_count": null,
      "outputs": [
        {
          "output_type": "execute_result",
          "data": {
            "text/plain": [
              "array(['Rural', 'Urban', 0], dtype=object)"
            ]
          },
          "metadata": {},
          "execution_count": 229
        }
      ]
    },
    {
      "cell_type": "code",
      "source": [
        "Data['Level of Education'].unique()"
      ],
      "metadata": {
        "colab": {
          "base_uri": "https://localhost:8080/"
        },
        "id": "fQVV-Nt4m9wC",
        "outputId": "09411c88-0ca1-4ece-ba2d-d912e3f467bb"
      },
      "execution_count": null,
      "outputs": [
        {
          "output_type": "execute_result",
          "data": {
            "text/plain": [
              "array(['Secondary education', 'No formal education',\n",
              "       'Vocational/Specialised training', 'Primary education',\n",
              "       'Tertiary education', 'Other/Dont know/RTA', '6', 0], dtype=object)"
            ]
          },
          "metadata": {},
          "execution_count": 230
        }
      ]
    },
    {
      "cell_type": "code",
      "source": [
        "Data['Type of Job'].unique()"
      ],
      "metadata": {
        "colab": {
          "base_uri": "https://localhost:8080/"
        },
        "id": "89RYhTRxmT0b",
        "outputId": "0124ed1a-c324-4c6d-88c6-7a8ef6db6bbb"
      },
      "execution_count": null,
      "outputs": [
        {
          "output_type": "execute_result",
          "data": {
            "text/plain": [
              "array(['Self employed', 'Government Dependent',\n",
              "       'Formally employed Private', 'Informally employed',\n",
              "       'Formally employed Government', 'Farming and Fishing',\n",
              "       'Remittance Dependent', 'Other Income',\n",
              "       'Dont Know/Refuse to answer', 0, 'No Income'], dtype=object)"
            ]
          },
          "metadata": {},
          "execution_count": 231
        }
      ]
    },
    {
      "cell_type": "code",
      "source": [
        "Data['Has a bank account'].unique()"
      ],
      "metadata": {
        "colab": {
          "base_uri": "https://localhost:8080/"
        },
        "id": "4IeJ25sO-108",
        "outputId": "c6dc4a99-ec5f-496c-b534-cef07b6406e4"
      },
      "execution_count": null,
      "outputs": [
        {
          "output_type": "execute_result",
          "data": {
            "text/plain": [
              "array(['Yes', 'No', 0], dtype=object)"
            ]
          },
          "metadata": {},
          "execution_count": 232
        }
      ]
    },
    {
      "cell_type": "code",
      "metadata": {
        "id": "D-4I__6Os4C5"
      },
      "source": [
        "# More data cleaning procedures\n",
        "# Changing string values to integers to enable plotting of graphs by the syntax below.\n",
        "#df['column name'] = df['column name'].replace(['old value'],'new value')\n",
        "\n",
        "Data[\"Has a bank account\"] = Data['Has a bank account'].replace([\"Yes\"], 2)  \n",
        "Data[\"Has a bank account\"] = Data['Has a bank account'].replace([\"No\"], 1)  \n",
        "\n",
        "\n",
        "Data[\"Level of Education\"] = Data['Level of Education'].replace([\"Secondary education\"], 1)  \n",
        "Data[\"Level of Education\"] = Data['Level of Education'].replace([\"No formal education\"], 0)  \n",
        "Data[\"Level of Education\"] = Data['Level of Education'].replace([\"Vocational/Specialised training\"], 2)  \n",
        "Data[\"Level of Education\"] = Data[\"Level of Education\"].replace([\"Primary education\"], 3)\n",
        "Data[\"Level of Education\"] = Data[\"Level of Education\"].replace([\"Tertiary education\"], 4)  \n",
        "Data[\"Level of Education\"] = Data[\"Level of Education\"].replace([\"Other/Dont know/RTA\"], 5)  \n",
        "\n",
        "Data[\"Type of Job\"] = Data[\"Type of Job\"].replace([\"Self employed\"], 1)  \n",
        "Data[\"Type of Job\"] = Data[\"Type of Job\"].replace([\"Government Dependent\"], 2)  \n",
        "Data[\"Type of Job\"] = Data[\"Type of Job\"].replace([\"Formally employed Private\"], 3)  \n",
        "Data[\"Type of Job\"] = Data[\"Type of Job\"].replace([\"Formally employed Government\"], 4)  \n",
        "Data[\"Type of Job\"] = Data[\"Type of Job\"].replace([\"Farming and Fishing\"], 5)\n",
        "Data[\"Type of Job\"] = Data[\"Type of Job\"].replace([\"Remittance Dependent\"], 6)\n",
        "Data[\"Type of Job\"] = Data[\"Type of Job\"].replace([\"Informally employed\"], 7)\n",
        "Data[\"Type of Job\"] = Data[\"Type of Job\"].replace([\"Other Income\"], 8)  \n",
        "Data[\"Type of Job\"] = Data[\"Type of Job\"].replace([\"Dont Know/Refuse to answer\"], 9) \n",
        "Data[\"Type of Job\"] = Data[\"Type of Job\"].replace([\"No Income\"], 10) \n",
        "\n",
        "Data[\"Cell Phone Access\"] = Data[\"Cell Phone Access\"].replace([\"Yes\"], 2)  \n",
        "Data[\"Cell Phone Access\"] = Data[\"Cell Phone Access\"].replace([\"No\"], 1)\n",
        "\n",
        "Data[\"Gender\"] = Data['Gender'].replace([\"Male\"], 1)  \n",
        "Data[\"Gender\"] = Data[\"Gender\"].replace([\"Female\"], 2) \n",
        "\n",
        "Data[\"Relationship with head\"] = Data[\"Relationship with head\"].replace([\"Spouse\"], 1)  \n",
        "Data[\"Relationship with head\"] = Data[\"Relationship with head\"].replace([\"Head of Household\"], 6)  \n",
        "Data[\"Relationship with head\"] = Data[\"Relationship with head\"].replace([\"Other relative\"], 2)  \n",
        "Data[\"Relationship with head\"] = Data[\"Relationship with head\"].replace([\"Child\"], 3)  \n",
        "Data[\"Relationship with head\"] = Data[\"Relationship with head\"].replace([\"Parent\"], 4)  \n",
        "Data[\"Relationship with head\"] = Data[\"Relationship with head\"].replace([\"Other non-relatives\"], 5) \n",
        "\n",
        "Data[\"Marital_status\"] = Data[\"Marital_status\"].replace([\"Married/Living together\"], 1)  \n",
        "Data[\"Marital_status\"] = Data[\"Marital_status\"].replace([\"Widowed\"], 2)  \n",
        "Data[\"Marital_status\"] = Data[\"Marital_status\"].replace([\"Single/Never Married\"], 3)  \n",
        "Data[\"Marital_status\"] = Data[\"Marital_status\"].replace([\"Divorced/Seperated\"], 4)  \n",
        "Data[\"Marital_status\"] = Data[\"Marital_status\"].replace([\"Dont know\"], 5) \n",
        "\n",
        "Data[\"Type of location\"] = Data[\"Type of location\"].replace(['Rural'], 1)  \n",
        "Data[\"Type of location\"] = Data[\"Type of location\"].replace(['Urban'], 2)  \n",
        "\n",
        "Data[\"country\"] = Data[\"country\"].replace(['Kenya'], 1)  \n",
        "Data[\"country\"] = Data[\"country\"].replace(['Tanzania'], 2)  \n",
        "Data[\"country\"] = Data[\"country\"].replace(['Rwanda'], 3)  \n",
        "Data[\"country\"] = Data[\"country\"].replace(['Uganda'], 4)  \n"
      ],
      "execution_count": null,
      "outputs": []
    },
    {
      "cell_type": "code",
      "source": [
        "# Dropping unnecessary columns\n",
        "Data = Data.drop('uniqueid', axis = 1)"
      ],
      "metadata": {
        "id": "dB3s9a-b8fjn"
      },
      "execution_count": null,
      "outputs": []
    },
    {
      "cell_type": "code",
      "source": [
        "Data.head()"
      ],
      "metadata": {
        "colab": {
          "base_uri": "https://localhost:8080/",
          "height": 267
        },
        "id": "giRzl1GCvs8M",
        "outputId": "9146fa81-0de2-4628-f3a0-5ca460e809b5"
      },
      "execution_count": 329,
      "outputs": [
        {
          "output_type": "execute_result",
          "data": {
            "text/plain": [
              "   country  year  Has a bank account  Type of location  Cell Phone Access  \\\n",
              "0        1  2018                   2                 1                  2   \n",
              "1        1  2018                   1                 1                  1   \n",
              "2        1  2018                   2                 2                  2   \n",
              "3        1  2018                   1                 1                  2   \n",
              "4        1  2018                   1                 2                  1   \n",
              "\n",
              "   Household_size  Respondent Age  Gender  Relationship with head  \\\n",
              "0             3.0            24.0       2                       1   \n",
              "1             5.0            70.0       2                       6   \n",
              "2             5.0            26.0       1                       2   \n",
              "3             5.0            34.0       2                       6   \n",
              "4             8.0            26.0       1                       3   \n",
              "\n",
              "   Marital_status Level of Education  Type of Job  \n",
              "0               1                  1            1  \n",
              "1               2                  0            2  \n",
              "2               3                  2            1  \n",
              "3               1                  3            3  \n",
              "4               3                  3            7  "
            ],
            "text/html": [
              "\n",
              "  <div id=\"df-106c6702-4e85-458c-a869-c6ce72388cc7\">\n",
              "    <div class=\"colab-df-container\">\n",
              "      <div>\n",
              "<style scoped>\n",
              "    .dataframe tbody tr th:only-of-type {\n",
              "        vertical-align: middle;\n",
              "    }\n",
              "\n",
              "    .dataframe tbody tr th {\n",
              "        vertical-align: top;\n",
              "    }\n",
              "\n",
              "    .dataframe thead th {\n",
              "        text-align: right;\n",
              "    }\n",
              "</style>\n",
              "<table border=\"1\" class=\"dataframe\">\n",
              "  <thead>\n",
              "    <tr style=\"text-align: right;\">\n",
              "      <th></th>\n",
              "      <th>country</th>\n",
              "      <th>year</th>\n",
              "      <th>Has a bank account</th>\n",
              "      <th>Type of location</th>\n",
              "      <th>Cell Phone Access</th>\n",
              "      <th>Household_size</th>\n",
              "      <th>Respondent Age</th>\n",
              "      <th>Gender</th>\n",
              "      <th>Relationship with head</th>\n",
              "      <th>Marital_status</th>\n",
              "      <th>Level of Education</th>\n",
              "      <th>Type of Job</th>\n",
              "    </tr>\n",
              "  </thead>\n",
              "  <tbody>\n",
              "    <tr>\n",
              "      <th>0</th>\n",
              "      <td>1</td>\n",
              "      <td>2018</td>\n",
              "      <td>2</td>\n",
              "      <td>1</td>\n",
              "      <td>2</td>\n",
              "      <td>3.0</td>\n",
              "      <td>24.0</td>\n",
              "      <td>2</td>\n",
              "      <td>1</td>\n",
              "      <td>1</td>\n",
              "      <td>1</td>\n",
              "      <td>1</td>\n",
              "    </tr>\n",
              "    <tr>\n",
              "      <th>1</th>\n",
              "      <td>1</td>\n",
              "      <td>2018</td>\n",
              "      <td>1</td>\n",
              "      <td>1</td>\n",
              "      <td>1</td>\n",
              "      <td>5.0</td>\n",
              "      <td>70.0</td>\n",
              "      <td>2</td>\n",
              "      <td>6</td>\n",
              "      <td>2</td>\n",
              "      <td>0</td>\n",
              "      <td>2</td>\n",
              "    </tr>\n",
              "    <tr>\n",
              "      <th>2</th>\n",
              "      <td>1</td>\n",
              "      <td>2018</td>\n",
              "      <td>2</td>\n",
              "      <td>2</td>\n",
              "      <td>2</td>\n",
              "      <td>5.0</td>\n",
              "      <td>26.0</td>\n",
              "      <td>1</td>\n",
              "      <td>2</td>\n",
              "      <td>3</td>\n",
              "      <td>2</td>\n",
              "      <td>1</td>\n",
              "    </tr>\n",
              "    <tr>\n",
              "      <th>3</th>\n",
              "      <td>1</td>\n",
              "      <td>2018</td>\n",
              "      <td>1</td>\n",
              "      <td>1</td>\n",
              "      <td>2</td>\n",
              "      <td>5.0</td>\n",
              "      <td>34.0</td>\n",
              "      <td>2</td>\n",
              "      <td>6</td>\n",
              "      <td>1</td>\n",
              "      <td>3</td>\n",
              "      <td>3</td>\n",
              "    </tr>\n",
              "    <tr>\n",
              "      <th>4</th>\n",
              "      <td>1</td>\n",
              "      <td>2018</td>\n",
              "      <td>1</td>\n",
              "      <td>2</td>\n",
              "      <td>1</td>\n",
              "      <td>8.0</td>\n",
              "      <td>26.0</td>\n",
              "      <td>1</td>\n",
              "      <td>3</td>\n",
              "      <td>3</td>\n",
              "      <td>3</td>\n",
              "      <td>7</td>\n",
              "    </tr>\n",
              "  </tbody>\n",
              "</table>\n",
              "</div>\n",
              "      <button class=\"colab-df-convert\" onclick=\"convertToInteractive('df-106c6702-4e85-458c-a869-c6ce72388cc7')\"\n",
              "              title=\"Convert this dataframe to an interactive table.\"\n",
              "              style=\"display:none;\">\n",
              "        \n",
              "  <svg xmlns=\"http://www.w3.org/2000/svg\" height=\"24px\"viewBox=\"0 0 24 24\"\n",
              "       width=\"24px\">\n",
              "    <path d=\"M0 0h24v24H0V0z\" fill=\"none\"/>\n",
              "    <path d=\"M18.56 5.44l.94 2.06.94-2.06 2.06-.94-2.06-.94-.94-2.06-.94 2.06-2.06.94zm-11 1L8.5 8.5l.94-2.06 2.06-.94-2.06-.94L8.5 2.5l-.94 2.06-2.06.94zm10 10l.94 2.06.94-2.06 2.06-.94-2.06-.94-.94-2.06-.94 2.06-2.06.94z\"/><path d=\"M17.41 7.96l-1.37-1.37c-.4-.4-.92-.59-1.43-.59-.52 0-1.04.2-1.43.59L10.3 9.45l-7.72 7.72c-.78.78-.78 2.05 0 2.83L4 21.41c.39.39.9.59 1.41.59.51 0 1.02-.2 1.41-.59l7.78-7.78 2.81-2.81c.8-.78.8-2.07 0-2.86zM5.41 20L4 18.59l7.72-7.72 1.47 1.35L5.41 20z\"/>\n",
              "  </svg>\n",
              "      </button>\n",
              "      \n",
              "  <style>\n",
              "    .colab-df-container {\n",
              "      display:flex;\n",
              "      flex-wrap:wrap;\n",
              "      gap: 12px;\n",
              "    }\n",
              "\n",
              "    .colab-df-convert {\n",
              "      background-color: #E8F0FE;\n",
              "      border: none;\n",
              "      border-radius: 50%;\n",
              "      cursor: pointer;\n",
              "      display: none;\n",
              "      fill: #1967D2;\n",
              "      height: 32px;\n",
              "      padding: 0 0 0 0;\n",
              "      width: 32px;\n",
              "    }\n",
              "\n",
              "    .colab-df-convert:hover {\n",
              "      background-color: #E2EBFA;\n",
              "      box-shadow: 0px 1px 2px rgba(60, 64, 67, 0.3), 0px 1px 3px 1px rgba(60, 64, 67, 0.15);\n",
              "      fill: #174EA6;\n",
              "    }\n",
              "\n",
              "    [theme=dark] .colab-df-convert {\n",
              "      background-color: #3B4455;\n",
              "      fill: #D2E3FC;\n",
              "    }\n",
              "\n",
              "    [theme=dark] .colab-df-convert:hover {\n",
              "      background-color: #434B5C;\n",
              "      box-shadow: 0px 1px 3px 1px rgba(0, 0, 0, 0.15);\n",
              "      filter: drop-shadow(0px 1px 2px rgba(0, 0, 0, 0.3));\n",
              "      fill: #FFFFFF;\n",
              "    }\n",
              "  </style>\n",
              "\n",
              "      <script>\n",
              "        const buttonEl =\n",
              "          document.querySelector('#df-106c6702-4e85-458c-a869-c6ce72388cc7 button.colab-df-convert');\n",
              "        buttonEl.style.display =\n",
              "          google.colab.kernel.accessAllowed ? 'block' : 'none';\n",
              "\n",
              "        async function convertToInteractive(key) {\n",
              "          const element = document.querySelector('#df-106c6702-4e85-458c-a869-c6ce72388cc7');\n",
              "          const dataTable =\n",
              "            await google.colab.kernel.invokeFunction('convertToInteractive',\n",
              "                                                     [key], {});\n",
              "          if (!dataTable) return;\n",
              "\n",
              "          const docLinkHtml = 'Like what you see? Visit the ' +\n",
              "            '<a target=\"_blank\" href=https://colab.research.google.com/notebooks/data_table.ipynb>data table notebook</a>'\n",
              "            + ' to learn more about interactive tables.';\n",
              "          element.innerHTML = '';\n",
              "          dataTable['output_type'] = 'display_data';\n",
              "          await google.colab.output.renderOutput(dataTable, element);\n",
              "          const docLink = document.createElement('div');\n",
              "          docLink.innerHTML = docLinkHtml;\n",
              "          element.appendChild(docLink);\n",
              "        }\n",
              "      </script>\n",
              "    </div>\n",
              "  </div>\n",
              "  "
            ]
          },
          "metadata": {},
          "execution_count": 329
        }
      ]
    },
    {
      "cell_type": "markdown",
      "metadata": {
        "id": "rF2ABPsHUtbZ"
      },
      "source": [
        "## 6. Exploratory Analysis"
      ]
    },
    {
      "cell_type": "markdown",
      "source": [
        "### Univariate analysis"
      ],
      "metadata": {
        "id": "3TzRRkDF9JAs"
      }
    },
    {
      "cell_type": "code",
      "source": [
        "# Finding out univariate parameters such as mode, median and percentiles.\n",
        "Data.describe()"
      ],
      "metadata": {
        "colab": {
          "base_uri": "https://localhost:8080/",
          "height": 361
        },
        "id": "dwFnVVowI1TD",
        "outputId": "801246a6-fc4c-4454-f2f3-cd8b16209e33"
      },
      "execution_count": 332,
      "outputs": [
        {
          "output_type": "execute_result",
          "data": {
            "text/plain": [
              "            country          year  Has a bank account  Type of location  \\\n",
              "count  19151.000000  19151.000000        19151.000000      19151.000000   \n",
              "mean       2.261292   2017.050389            1.162289          1.385202   \n",
              "std        0.995145      0.925089            0.373789          0.488263   \n",
              "min        0.000000   2016.000000            0.000000          0.000000   \n",
              "25%        1.000000   2016.000000            1.000000          1.000000   \n",
              "50%        2.000000   2017.000000            1.000000          1.000000   \n",
              "75%        3.000000   2018.000000            1.000000          2.000000   \n",
              "max        4.000000   2056.000000            2.000000          2.000000   \n",
              "\n",
              "       Cell Phone Access  Household_size  Respondent Age        Gender  \\\n",
              "count       19151.000000    19151.000000    19151.000000  19151.000000   \n",
              "mean            1.737351        3.736776       39.458201      1.592554   \n",
              "std             0.441388        2.361330       17.129804      0.494867   \n",
              "min             0.000000        0.000000        0.000000      0.000000   \n",
              "25%             1.000000        2.000000       26.000000      1.000000   \n",
              "50%             2.000000        3.000000       36.000000      2.000000   \n",
              "75%             2.000000        5.000000       50.000000      2.000000   \n",
              "max             2.000000       21.000000      100.000000      2.000000   \n",
              "\n",
              "       Relationship with head  Marital_status   Type of Job  \n",
              "count            19151.000000    19151.000000  19151.000000  \n",
              "mean                 4.209075        2.065793      4.740797  \n",
              "std                  2.157250        1.088250      2.609015  \n",
              "min                  0.000000        0.000000      0.000000  \n",
              "25%                  2.000000        1.000000      1.000000  \n",
              "50%                  6.000000        2.000000      5.000000  \n",
              "75%                  6.000000        3.000000      7.000000  \n",
              "max                  6.000000        5.000000     10.000000  "
            ],
            "text/html": [
              "\n",
              "  <div id=\"df-43975414-dd77-4ec0-b720-eff691658ece\">\n",
              "    <div class=\"colab-df-container\">\n",
              "      <div>\n",
              "<style scoped>\n",
              "    .dataframe tbody tr th:only-of-type {\n",
              "        vertical-align: middle;\n",
              "    }\n",
              "\n",
              "    .dataframe tbody tr th {\n",
              "        vertical-align: top;\n",
              "    }\n",
              "\n",
              "    .dataframe thead th {\n",
              "        text-align: right;\n",
              "    }\n",
              "</style>\n",
              "<table border=\"1\" class=\"dataframe\">\n",
              "  <thead>\n",
              "    <tr style=\"text-align: right;\">\n",
              "      <th></th>\n",
              "      <th>country</th>\n",
              "      <th>year</th>\n",
              "      <th>Has a bank account</th>\n",
              "      <th>Type of location</th>\n",
              "      <th>Cell Phone Access</th>\n",
              "      <th>Household_size</th>\n",
              "      <th>Respondent Age</th>\n",
              "      <th>Gender</th>\n",
              "      <th>Relationship with head</th>\n",
              "      <th>Marital_status</th>\n",
              "      <th>Type of Job</th>\n",
              "    </tr>\n",
              "  </thead>\n",
              "  <tbody>\n",
              "    <tr>\n",
              "      <th>count</th>\n",
              "      <td>19151.000000</td>\n",
              "      <td>19151.000000</td>\n",
              "      <td>19151.000000</td>\n",
              "      <td>19151.000000</td>\n",
              "      <td>19151.000000</td>\n",
              "      <td>19151.000000</td>\n",
              "      <td>19151.000000</td>\n",
              "      <td>19151.000000</td>\n",
              "      <td>19151.000000</td>\n",
              "      <td>19151.000000</td>\n",
              "      <td>19151.000000</td>\n",
              "    </tr>\n",
              "    <tr>\n",
              "      <th>mean</th>\n",
              "      <td>2.261292</td>\n",
              "      <td>2017.050389</td>\n",
              "      <td>1.162289</td>\n",
              "      <td>1.385202</td>\n",
              "      <td>1.737351</td>\n",
              "      <td>3.736776</td>\n",
              "      <td>39.458201</td>\n",
              "      <td>1.592554</td>\n",
              "      <td>4.209075</td>\n",
              "      <td>2.065793</td>\n",
              "      <td>4.740797</td>\n",
              "    </tr>\n",
              "    <tr>\n",
              "      <th>std</th>\n",
              "      <td>0.995145</td>\n",
              "      <td>0.925089</td>\n",
              "      <td>0.373789</td>\n",
              "      <td>0.488263</td>\n",
              "      <td>0.441388</td>\n",
              "      <td>2.361330</td>\n",
              "      <td>17.129804</td>\n",
              "      <td>0.494867</td>\n",
              "      <td>2.157250</td>\n",
              "      <td>1.088250</td>\n",
              "      <td>2.609015</td>\n",
              "    </tr>\n",
              "    <tr>\n",
              "      <th>min</th>\n",
              "      <td>0.000000</td>\n",
              "      <td>2016.000000</td>\n",
              "      <td>0.000000</td>\n",
              "      <td>0.000000</td>\n",
              "      <td>0.000000</td>\n",
              "      <td>0.000000</td>\n",
              "      <td>0.000000</td>\n",
              "      <td>0.000000</td>\n",
              "      <td>0.000000</td>\n",
              "      <td>0.000000</td>\n",
              "      <td>0.000000</td>\n",
              "    </tr>\n",
              "    <tr>\n",
              "      <th>25%</th>\n",
              "      <td>1.000000</td>\n",
              "      <td>2016.000000</td>\n",
              "      <td>1.000000</td>\n",
              "      <td>1.000000</td>\n",
              "      <td>1.000000</td>\n",
              "      <td>2.000000</td>\n",
              "      <td>26.000000</td>\n",
              "      <td>1.000000</td>\n",
              "      <td>2.000000</td>\n",
              "      <td>1.000000</td>\n",
              "      <td>1.000000</td>\n",
              "    </tr>\n",
              "    <tr>\n",
              "      <th>50%</th>\n",
              "      <td>2.000000</td>\n",
              "      <td>2017.000000</td>\n",
              "      <td>1.000000</td>\n",
              "      <td>1.000000</td>\n",
              "      <td>2.000000</td>\n",
              "      <td>3.000000</td>\n",
              "      <td>36.000000</td>\n",
              "      <td>2.000000</td>\n",
              "      <td>6.000000</td>\n",
              "      <td>2.000000</td>\n",
              "      <td>5.000000</td>\n",
              "    </tr>\n",
              "    <tr>\n",
              "      <th>75%</th>\n",
              "      <td>3.000000</td>\n",
              "      <td>2018.000000</td>\n",
              "      <td>1.000000</td>\n",
              "      <td>2.000000</td>\n",
              "      <td>2.000000</td>\n",
              "      <td>5.000000</td>\n",
              "      <td>50.000000</td>\n",
              "      <td>2.000000</td>\n",
              "      <td>6.000000</td>\n",
              "      <td>3.000000</td>\n",
              "      <td>7.000000</td>\n",
              "    </tr>\n",
              "    <tr>\n",
              "      <th>max</th>\n",
              "      <td>4.000000</td>\n",
              "      <td>2056.000000</td>\n",
              "      <td>2.000000</td>\n",
              "      <td>2.000000</td>\n",
              "      <td>2.000000</td>\n",
              "      <td>21.000000</td>\n",
              "      <td>100.000000</td>\n",
              "      <td>2.000000</td>\n",
              "      <td>6.000000</td>\n",
              "      <td>5.000000</td>\n",
              "      <td>10.000000</td>\n",
              "    </tr>\n",
              "  </tbody>\n",
              "</table>\n",
              "</div>\n",
              "      <button class=\"colab-df-convert\" onclick=\"convertToInteractive('df-43975414-dd77-4ec0-b720-eff691658ece')\"\n",
              "              title=\"Convert this dataframe to an interactive table.\"\n",
              "              style=\"display:none;\">\n",
              "        \n",
              "  <svg xmlns=\"http://www.w3.org/2000/svg\" height=\"24px\"viewBox=\"0 0 24 24\"\n",
              "       width=\"24px\">\n",
              "    <path d=\"M0 0h24v24H0V0z\" fill=\"none\"/>\n",
              "    <path d=\"M18.56 5.44l.94 2.06.94-2.06 2.06-.94-2.06-.94-.94-2.06-.94 2.06-2.06.94zm-11 1L8.5 8.5l.94-2.06 2.06-.94-2.06-.94L8.5 2.5l-.94 2.06-2.06.94zm10 10l.94 2.06.94-2.06 2.06-.94-2.06-.94-.94-2.06-.94 2.06-2.06.94z\"/><path d=\"M17.41 7.96l-1.37-1.37c-.4-.4-.92-.59-1.43-.59-.52 0-1.04.2-1.43.59L10.3 9.45l-7.72 7.72c-.78.78-.78 2.05 0 2.83L4 21.41c.39.39.9.59 1.41.59.51 0 1.02-.2 1.41-.59l7.78-7.78 2.81-2.81c.8-.78.8-2.07 0-2.86zM5.41 20L4 18.59l7.72-7.72 1.47 1.35L5.41 20z\"/>\n",
              "  </svg>\n",
              "      </button>\n",
              "      \n",
              "  <style>\n",
              "    .colab-df-container {\n",
              "      display:flex;\n",
              "      flex-wrap:wrap;\n",
              "      gap: 12px;\n",
              "    }\n",
              "\n",
              "    .colab-df-convert {\n",
              "      background-color: #E8F0FE;\n",
              "      border: none;\n",
              "      border-radius: 50%;\n",
              "      cursor: pointer;\n",
              "      display: none;\n",
              "      fill: #1967D2;\n",
              "      height: 32px;\n",
              "      padding: 0 0 0 0;\n",
              "      width: 32px;\n",
              "    }\n",
              "\n",
              "    .colab-df-convert:hover {\n",
              "      background-color: #E2EBFA;\n",
              "      box-shadow: 0px 1px 2px rgba(60, 64, 67, 0.3), 0px 1px 3px 1px rgba(60, 64, 67, 0.15);\n",
              "      fill: #174EA6;\n",
              "    }\n",
              "\n",
              "    [theme=dark] .colab-df-convert {\n",
              "      background-color: #3B4455;\n",
              "      fill: #D2E3FC;\n",
              "    }\n",
              "\n",
              "    [theme=dark] .colab-df-convert:hover {\n",
              "      background-color: #434B5C;\n",
              "      box-shadow: 0px 1px 3px 1px rgba(0, 0, 0, 0.15);\n",
              "      filter: drop-shadow(0px 1px 2px rgba(0, 0, 0, 0.3));\n",
              "      fill: #FFFFFF;\n",
              "    }\n",
              "  </style>\n",
              "\n",
              "      <script>\n",
              "        const buttonEl =\n",
              "          document.querySelector('#df-43975414-dd77-4ec0-b720-eff691658ece button.colab-df-convert');\n",
              "        buttonEl.style.display =\n",
              "          google.colab.kernel.accessAllowed ? 'block' : 'none';\n",
              "\n",
              "        async function convertToInteractive(key) {\n",
              "          const element = document.querySelector('#df-43975414-dd77-4ec0-b720-eff691658ece');\n",
              "          const dataTable =\n",
              "            await google.colab.kernel.invokeFunction('convertToInteractive',\n",
              "                                                     [key], {});\n",
              "          if (!dataTable) return;\n",
              "\n",
              "          const docLinkHtml = 'Like what you see? Visit the ' +\n",
              "            '<a target=\"_blank\" href=https://colab.research.google.com/notebooks/data_table.ipynb>data table notebook</a>'\n",
              "            + ' to learn more about interactive tables.';\n",
              "          element.innerHTML = '';\n",
              "          dataTable['output_type'] = 'display_data';\n",
              "          await google.colab.output.renderOutput(dataTable, element);\n",
              "          const docLink = document.createElement('div');\n",
              "          docLink.innerHTML = docLinkHtml;\n",
              "          element.appendChild(docLink);\n",
              "        }\n",
              "      </script>\n",
              "    </div>\n",
              "  </div>\n",
              "  "
            ]
          },
          "metadata": {},
          "execution_count": 332
        }
      ]
    },
    {
      "cell_type": "code",
      "metadata": {
        "id": "5nnRToniXGDK"
      },
      "source": [
        "# Ploting the univariate summaries and recording our observations\n",
        "#"
      ],
      "execution_count": null,
      "outputs": []
    },
    {
      "cell_type": "code",
      "source": [
        "Data['Has a bank account'].value_counts().plot.bar(title='Freq dist of having a bank account')\n",
        "# More respondents have bank accounts than those who do not.\n",
        "# 2 = have bank account\n",
        "# 1 = dont have bank account"
      ],
      "metadata": {
        "colab": {
          "base_uri": "https://localhost:8080/",
          "height": 296
        },
        "id": "A2adddrsvAtj",
        "outputId": "a349924f-1401-4a66-c723-0334fb7062a6"
      },
      "execution_count": null,
      "outputs": [
        {
          "output_type": "execute_result",
          "data": {
            "text/plain": [
              "<matplotlib.axes._subplots.AxesSubplot at 0x7f9a5bc64ed0>"
            ]
          },
          "metadata": {},
          "execution_count": 237
        },
        {
          "output_type": "display_data",
          "data": {
            "text/plain": [
              "<Figure size 432x288 with 1 Axes>"
            ],
            "image/png": "[encoded data removed]"
          },
          "metadata": {
            "needs_background": "light"
          }
        }
      ]
    },
    {
      "cell_type": "code",
      "source": [
        "Data['Type of location'].value_counts().plot.bar(title='Freq dist of location types')\n",
        "# More respondents live in urban areas than in the rurals\n",
        "\n",
        " # 2 = URBAN\n",
        " # 1= RURAL"
      ],
      "metadata": {
        "colab": {
          "base_uri": "https://localhost:8080/",
          "height": 296
        },
        "id": "1kQLmy7yxWQ3",
        "outputId": "f85898ee-fe80-4a31-f31a-e8e5baf180a0"
      },
      "execution_count": null,
      "outputs": [
        {
          "output_type": "execute_result",
          "data": {
            "text/plain": [
              "<matplotlib.axes._subplots.AxesSubplot at 0x7f9a5bbe2e50>"
            ]
          },
          "metadata": {},
          "execution_count": 238
        },
        {
          "output_type": "display_data",
          "data": {
            "text/plain": [
              "<Figure size 432x288 with 1 Axes>"
            ],
            "image/png": "[encoded data removed]"
          },
          "metadata": {
            "needs_background": "light"
          }
        }
      ]
    },
    {
      "cell_type": "code",
      "source": [
        "Data['Type of Job'].value_counts().plot.bar(title='Freq dist of job types')\n",
        "\n",
        "# # Key*\n",
        "\n",
        "# Self employed = 1\n",
        "#Government Dependent = 2  \n",
        "#Formally employed Private = 3\n",
        "#Formally employed Government = 4  \n",
        "#Farming and Fishing = 5\n",
        "#Remittance Dependent = 6\n",
        "#Informally employed = 7\n",
        "#Other Income =  8)  \n",
        "#Dont Know/Refuse to answer = 9 \n",
        "#No Income = 10\n",
        "\n",
        "# Self employed people were the most while Government dependents were the least. "
      ],
      "metadata": {
        "id": "7cCQMV-1vApE",
        "colab": {
          "base_uri": "https://localhost:8080/",
          "height": 302
        },
        "outputId": "08153a12-9d01-4451-e3ac-57f53904ae12"
      },
      "execution_count": null,
      "outputs": [
        {
          "output_type": "execute_result",
          "data": {
            "text/plain": [
              "<matplotlib.axes._subplots.AxesSubplot at 0x7f9a5bbe0ed0>"
            ]
          },
          "metadata": {},
          "execution_count": 239
        },
        {
          "output_type": "display_data",
          "data": {
            "text/plain": [
              "<Figure size 432x288 with 1 Axes>"
            ],
            "image/png": "[encoded data removed]"
          },
          "metadata": {
            "needs_background": "light"
          }
        }
      ]
    },
    {
      "cell_type": "code",
      "source": [
        "Data['Cell Phone Access'].value_counts().plot.bar(title='Freq dist of having cell phone access')\n",
        "# More respondents have cell phones than those who do not."
      ],
      "metadata": {
        "colab": {
          "base_uri": "https://localhost:8080/",
          "height": 296
        },
        "id": "QOuxGmCbxu5z",
        "outputId": "4fd12475-b9d9-4ffa-d902-132f347ac5c1"
      },
      "execution_count": null,
      "outputs": [
        {
          "output_type": "execute_result",
          "data": {
            "text/plain": [
              "<matplotlib.axes._subplots.AxesSubplot at 0x7f9a5bb524d0>"
            ]
          },
          "metadata": {},
          "execution_count": 240
        },
        {
          "output_type": "display_data",
          "data": {
            "text/plain": [
              "<Figure size 432x288 with 1 Axes>"
            ],
            "image/png": "[encoded data removed]"
          },
          "metadata": {
            "needs_background": "light"
          }
        }
      ]
    },
    {
      "cell_type": "code",
      "source": [
        "Data['Marital_status'].value_counts().plot.bar(title='Freq dist of marital status')\n",
        "\n",
        "# # key*\n",
        "# Married/Living together = 1)  \n",
        "# Widowed = 2 \n",
        "# Single/Never Married = 3  \n",
        "# Divorced/Seperated = 4\n",
        "# Dont know = 5\n",
        "\n",
        "# Married people who were living together were the most while tose who did not know their status were the least."
      ],
      "metadata": {
        "id": "eFlIdxFzvAmg",
        "colab": {
          "base_uri": "https://localhost:8080/",
          "height": 296
        },
        "outputId": "43df08b3-014e-4c93-8782-2dac15b3b78e"
      },
      "execution_count": null,
      "outputs": [
        {
          "output_type": "execute_result",
          "data": {
            "text/plain": [
              "<matplotlib.axes._subplots.AxesSubplot at 0x7f9a5baa2d90>"
            ]
          },
          "metadata": {},
          "execution_count": 241
        },
        {
          "output_type": "display_data",
          "data": {
            "text/plain": [
              "<Figure size 432x288 with 1 Axes>"
            ],
            "image/png": "[encoded data removed]"
          },
          "metadata": {
            "needs_background": "light"
          }
        }
      ]
    },
    {
      "cell_type": "code",
      "source": [
        "Data['Gender'].value_counts().plot.bar(title='Freq dist of gender')\n",
        "\n",
        "# Male = 1\n",
        "# Female = 2\n",
        "\n",
        "# There were more female respondents than male."
      ],
      "metadata": {
        "colab": {
          "base_uri": "https://localhost:8080/",
          "height": 296
        },
        "id": "IkSh7z5cx6x0",
        "outputId": "03d077c8-4767-46a9-d188-f5820299b3fd"
      },
      "execution_count": null,
      "outputs": [
        {
          "output_type": "execute_result",
          "data": {
            "text/plain": [
              "<matplotlib.axes._subplots.AxesSubplot at 0x7f9a5ba32b10>"
            ]
          },
          "metadata": {},
          "execution_count": 242
        },
        {
          "output_type": "display_data",
          "data": {
            "text/plain": [
              "<Figure size 432x288 with 1 Axes>"
            ],
            "image/png": "[encoded data removed]"
          },
          "metadata": {
            "needs_background": "light"
          }
        }
      ]
    },
    {
      "cell_type": "code",
      "source": [
        "Data['Respondent Age'].plot.hist(title='Age distribution')\n",
        "\n",
        "# Majority of respondents were in 30s while major minority was < 10 years.\n"
      ],
      "metadata": {
        "colab": {
          "base_uri": "https://localhost:8080/",
          "height": 300
        },
        "id": "_1KwzwqSyEJv",
        "outputId": "906707e8-5a99-48ab-8ce6-9fc09346bada"
      },
      "execution_count": null,
      "outputs": [
        {
          "output_type": "execute_result",
          "data": {
            "text/plain": [
              "<matplotlib.axes._subplots.AxesSubplot at 0x7f9a5bb74390>"
            ]
          },
          "metadata": {},
          "execution_count": 243
        },
        {
          "output_type": "display_data",
          "data": {
            "text/plain": [
              "<Figure size 432x288 with 1 Axes>"
            ],
            "image/png": "[encoded data removed]"
          },
          "metadata": {
            "needs_background": "light"
          }
        }
      ]
    },
    {
      "cell_type": "code",
      "source": [
        "Data['Household_size'].value_counts().plot.bar(title='Freq dist of household sizes')\n",
        "# The most household size was 2 while the least was 20."
      ],
      "metadata": {
        "id": "ykeHuH6-ynnB",
        "colab": {
          "base_uri": "https://localhost:8080/",
          "height": 312
        },
        "outputId": "50d07265-a371-4281-cce6-045d2c722d0b"
      },
      "execution_count": null,
      "outputs": [
        {
          "output_type": "execute_result",
          "data": {
            "text/plain": [
              "<matplotlib.axes._subplots.AxesSubplot at 0x7f9a5b92f6d0>"
            ]
          },
          "metadata": {},
          "execution_count": 244
        },
        {
          "output_type": "display_data",
          "data": {
            "text/plain": [
              "<Figure size 432x288 with 1 Axes>"
            ],
            "image/png": "[encoded data removed]"
          },
          "metadata": {
            "needs_background": "light"
          }
        }
      ]
    },
    {
      "cell_type": "code",
      "source": [
        "Data['Level of Education'].value_counts().plot.bar(title='education level frequencies')\n",
        "\n",
        "# # key*\n",
        "# Secondary education = 1  \n",
        "# No formal education = 0 \n",
        "# Vocational/Specialised training = 2\n",
        "# Primary education = 3\n",
        "# Tertiary education = 4 \n",
        "# Other/Dont know/RTA = 5 \n",
        "\n",
        "# Primary education had the most respondents while the least did not know or reached form 6."
      ],
      "metadata": {
        "id": "kjQg3Yn6vASO",
        "colab": {
          "base_uri": "https://localhost:8080/",
          "height": 296
        },
        "outputId": "b7e8ef46-f0b8-4e19-914e-c97f55039dc4"
      },
      "execution_count": null,
      "outputs": [
        {
          "output_type": "execute_result",
          "data": {
            "text/plain": [
              "<matplotlib.axes._subplots.AxesSubplot at 0x7f9a5b9c6390>"
            ]
          },
          "metadata": {},
          "execution_count": 245
        },
        {
          "output_type": "display_data",
          "data": {
            "text/plain": [
              "<Figure size 432x288 with 1 Axes>"
            ],
            "image/png": "[encoded data removed]"
          },
          "metadata": {
            "needs_background": "light"
          }
        }
      ]
    },
    {
      "cell_type": "code",
      "source": [
        "Data['Relationship with head'].value_counts().plot.bar(title='Freq dist of \"relationship with head')\n",
        "# Most respondents were heads of households and the least were non_relatives."
      ],
      "metadata": {
        "id": "94IDQ_42w3e7",
        "colab": {
          "base_uri": "https://localhost:8080/",
          "height": 296
        },
        "outputId": "598357a5-9c5d-468d-84c7-3abb9a18bc66"
      },
      "execution_count": null,
      "outputs": [
        {
          "output_type": "execute_result",
          "data": {
            "text/plain": [
              "<matplotlib.axes._subplots.AxesSubplot at 0x7f9a5b849550>"
            ]
          },
          "metadata": {},
          "execution_count": 246
        },
        {
          "output_type": "display_data",
          "data": {
            "text/plain": [
              "<Figure size 432x288 with 1 Axes>"
            ],
            "image/png": "[encoded data removed]"
          },
          "metadata": {
            "needs_background": "light"
          }
        }
      ]
    },
    {
      "cell_type": "code",
      "source": [
        "\n",
        "\n",
        "# Assigning our column to country\n",
        "countries = Data['country'].value_counts()\n",
        "\n",
        "# Plotting our pie chart\n",
        "# -------\n",
        "explode = (0, 0, 0, 0, 0.1)\n",
        "plt.pie(countries,explode = explode, labels = Data1['country'].unique(), autopct = '%1.1f%%', shadow = True, startangle = 140)\n",
        "plt.axis('equal')\n",
        "plt.title('Pie Chart of countries involved')\n",
        "plt.show() # We can see that Kenya has the highest number of respondents, and Uganda has the least."
      ],
      "metadata": {
        "id": "_nFjumP7y7Rf",
        "colab": {
          "base_uri": "https://localhost:8080/",
          "height": 264
        },
        "outputId": "809d712d-c2bd-4824-f738-2570654e61b4"
      },
      "execution_count": 324,
      "outputs": [
        {
          "output_type": "display_data",
          "data": {
            "text/plain": [
              "<Figure size 432x288 with 1 Axes>"
            ],
            "image/png": "[encoded data removed]"
          },
          "metadata": {}
        }
      ]
    },
    {
      "cell_type": "markdown",
      "source": [
        "### Bivariate Analysis"
      ],
      "metadata": {
        "id": "M76a4k8uMySD"
      }
    },
    {
      "cell_type": "code",
      "source": [
        "# Since we want to find the factors that relate to an individual having a bank account, we will generate visualisations depicting relationships between having a bank account to other variables."
      ],
      "metadata": {
        "id": "Cm98xtyr9_p2"
      },
      "execution_count": null,
      "outputs": []
    },
    {
      "cell_type": "code",
      "source": [
        "# Plotting bargraph to show how household size relates to having a bank account.\n",
        "sns.scatterplot(x = Data['Household_size'], y = Data['Has a bank account'] == 2)"
      ],
      "metadata": {
        "id": "v1q9goNVOZBU",
        "colab": {
          "base_uri": "https://localhost:8080/",
          "height": 298
        },
        "outputId": "3658427f-4e3d-46ff-d0c9-10cecd44daee"
      },
      "execution_count": null,
      "outputs": [
        {
          "output_type": "execute_result",
          "data": {
            "text/plain": [
              "<matplotlib.axes._subplots.AxesSubplot at 0x7f9a5b677b10>"
            ]
          },
          "metadata": {},
          "execution_count": 250
        },
        {
          "output_type": "display_data",
          "data": {
            "text/plain": [
              "<Figure size 432x288 with 1 Axes>"
            ],
            "image/png": "[encoded data removed]"
          },
          "metadata": {
            "needs_background": "light"
          }
        }
      ]
    },
    {
      "cell_type": "code",
      "source": [
        "# Calculating correlation of household size and having a bank account.\n",
        "size_vs_account_corr = Data['Household_size'].corr(Data['Has a bank account'] == 2, method = 'pearson')\n",
        "print(size_vs_account_corr)\n",
        "# There is almost no correlation although it is slightly to the negative but very weakly."
      ],
      "metadata": {
        "id": "ywNJpEMUHXgy",
        "colab": {
          "base_uri": "https://localhost:8080/"
        },
        "outputId": "500b0ba5-76c6-4e70-853b-0d1bc60b055f"
      },
      "execution_count": null,
      "outputs": [
        {
          "output_type": "stream",
          "name": "stdout",
          "text": [
            "-0.02146527301320283\n"
          ]
        }
      ]
    },
    {
      "cell_type": "code",
      "source": [
        "sns.scatterplot(x = Data['Respondent Age'], y = Data['Has a bank account'] == 2)"
      ],
      "metadata": {
        "id": "eujgB4k6etd9",
        "colab": {
          "base_uri": "https://localhost:8080/",
          "height": 297
        },
        "outputId": "a4bd3720-0f41-4ba3-8eee-5dbe39d0118c"
      },
      "execution_count": null,
      "outputs": [
        {
          "output_type": "execute_result",
          "data": {
            "text/plain": [
              "<matplotlib.axes._subplots.AxesSubplot at 0x7f9a5b739850>"
            ]
          },
          "metadata": {},
          "execution_count": 252
        },
        {
          "output_type": "display_data",
          "data": {
            "text/plain": [
              "<Figure size 432x288 with 1 Axes>"
            ],
            "image/png": "[encoded data removed]"
          },
          "metadata": {
            "needs_background": "light"
          }
        }
      ]
    },
    {
      "cell_type": "code",
      "source": [
        "age_vs_account_corr = Data['Respondent Age'].corr(Data['Has a bank account'] == 2, method = 'pearson')\n",
        "print(age_vs_account_corr)\n",
        "# There is almost no correlation although it is slightly to the positive but weakly. Meaning an increase in age could potentially increase a respondent's chance of having an account"
      ],
      "metadata": {
        "id": "4pRcdm61IvU3",
        "colab": {
          "base_uri": "https://localhost:8080/"
        },
        "outputId": "52126d88-0b1a-46db-e41f-fbf8a5a468cf"
      },
      "execution_count": null,
      "outputs": [
        {
          "output_type": "stream",
          "name": "stdout",
          "text": [
            "0.019957028890811374\n"
          ]
        }
      ]
    },
    {
      "cell_type": "code",
      "source": [
        "sns.scatterplot(x = Data['Cell Phone Access'], y = Data['Has a bank account'] == 2)"
      ],
      "metadata": {
        "id": "BMb5EsXdDkOA",
        "colab": {
          "base_uri": "https://localhost:8080/",
          "height": 297
        },
        "outputId": "d8e79af2-c387-43dd-c9d7-519efe27461a"
      },
      "execution_count": null,
      "outputs": [
        {
          "output_type": "execute_result",
          "data": {
            "text/plain": [
              "<matplotlib.axes._subplots.AxesSubplot at 0x7f9a5b521b90>"
            ]
          },
          "metadata": {},
          "execution_count": 254
        },
        {
          "output_type": "display_data",
          "data": {
            "text/plain": [
              "<Figure size 432x288 with 1 Axes>"
            ],
            "image/png": "[encoded data removed]"
          },
          "metadata": {
            "needs_background": "light"
          }
        }
      ]
    },
    {
      "cell_type": "code",
      "source": [
        "cell_vs_account_corr = (Data['Cell Phone Access']== 1).corr(Data['Has a bank account'] == 2, method = 'pearson')\n",
        "print(cell_vs_account_corr)\n",
        "\n",
        "# There is a weak negative correlation between having a cellphone and having a bank account."
      ],
      "metadata": {
        "id": "GkWqzdFTJETa",
        "colab": {
          "base_uri": "https://localhost:8080/"
        },
        "outputId": "29aba562-5918-4750-f242-38afd293d64f"
      },
      "execution_count": null,
      "outputs": [
        {
          "output_type": "stream",
          "name": "stdout",
          "text": [
            "-0.20936360361602802\n"
          ]
        }
      ]
    },
    {
      "cell_type": "code",
      "source": [
        "Cell_vs_account_corr = (Data['Cell Phone Access']== 0).corr(Data['Has a bank account'] == 2, method = 'pearson')\n",
        "print(Cell_vs_account_corr)\n",
        " # There is also a very weak negative correlation between not having a cellphone and having a bank account."
      ],
      "metadata": {
        "id": "z0xt4-MfXoS-",
        "colab": {
          "base_uri": "https://localhost:8080/"
        },
        "outputId": "5fedcfab-d51c-4a20-d41d-46706705ef62"
      },
      "execution_count": null,
      "outputs": [
        {
          "output_type": "stream",
          "name": "stdout",
          "text": [
            "-0.008750922373874178\n"
          ]
        }
      ]
    },
    {
      "cell_type": "code",
      "source": [
        "sns.lineplot(x = Data['Household_size'], y = Data['Has a bank account'])"
      ],
      "metadata": {
        "id": "UVm2gvnxDkIV",
        "colab": {
          "base_uri": "https://localhost:8080/",
          "height": 298
        },
        "outputId": "50cabb77-9e7f-4527-c0e8-9e3c6a99bba7"
      },
      "execution_count": null,
      "outputs": [
        {
          "output_type": "execute_result",
          "data": {
            "text/plain": [
              "<matplotlib.axes._subplots.AxesSubplot at 0x7f9a5b4a1250>"
            ]
          },
          "metadata": {},
          "execution_count": 257
        },
        {
          "output_type": "display_data",
          "data": {
            "text/plain": [
              "<Figure size 432x288 with 1 Axes>"
            ],
            "image/png": "[encoded data removed]"
          },
          "metadata": {
            "needs_background": "light"
          }
        }
      ]
    },
    {
      "cell_type": "code",
      "source": [
        "housesize_vs_account_corr = Data['Household_size'].corr(Data['Has a bank account'] == 2, method = 'pearson')\n",
        "print(housesize_vs_account_corr)\n",
        "\n",
        "# There is a negative correlation between household size and having a bank account."
      ],
      "metadata": {
        "id": "ijs0u8bFTBlp",
        "colab": {
          "base_uri": "https://localhost:8080/"
        },
        "outputId": "d32e50ed-2d1b-477b-93f3-6a3ed105d08e"
      },
      "execution_count": null,
      "outputs": [
        {
          "output_type": "stream",
          "name": "stdout",
          "text": [
            "-0.02146527301320283\n"
          ]
        }
      ]
    },
    {
      "cell_type": "code",
      "source": [
        "sns.barplot(x = Data['Type of location'], y = Data['Has a bank account'] == 2)"
      ],
      "metadata": {
        "id": "XEOzRNeqDkFw",
        "colab": {
          "base_uri": "https://localhost:8080/",
          "height": 297
        },
        "outputId": "1e236cec-3955-404d-f724-c98ecf7e1e9d"
      },
      "execution_count": null,
      "outputs": [
        {
          "output_type": "execute_result",
          "data": {
            "text/plain": [
              "<matplotlib.axes._subplots.AxesSubplot at 0x7f9a68146550>"
            ]
          },
          "metadata": {},
          "execution_count": 314
        },
        {
          "output_type": "display_data",
          "data": {
            "text/plain": [
              "<Figure size 432x288 with 1 Axes>"
            ],
            "image/png": "[encoded data removed]"
          },
          "metadata": {
            "needs_background": "light"
          }
        }
      ]
    },
    {
      "cell_type": "code",
      "source": [
        "location_vs_account_corr = (Data['Type of location']== 1).corr(Data['Has a bank account'] == 2, method = 'pearson')\n",
        "print(location_vs_account_corr)\n",
        "\n",
        "# There is a weak negative correlation between a rural location and having an account"
      ],
      "metadata": {
        "id": "NK3C2vfzTcri",
        "colab": {
          "base_uri": "https://localhost:8080/"
        },
        "outputId": "269de97d-0136-486d-b1bb-8035d006a582"
      },
      "execution_count": null,
      "outputs": [
        {
          "output_type": "stream",
          "name": "stdout",
          "text": [
            "-0.08742999347067076\n"
          ]
        }
      ]
    },
    {
      "cell_type": "code",
      "source": [
        "Location_vs_account_corr = (Data['Type of location']== 2).corr(Data['Has a bank account'] == 2, method = 'pearson')\n",
        "print(Location_vs_account_corr)\n",
        "\n",
        "# There is a weak positive correlation between being in an urban setting and having an account"
      ],
      "metadata": {
        "id": "wewLDhncT-La",
        "colab": {
          "base_uri": "https://localhost:8080/"
        },
        "outputId": "9aca97d3-7873-4ffc-ac27-e09641c83827"
      },
      "execution_count": null,
      "outputs": [
        {
          "output_type": "stream",
          "name": "stdout",
          "text": [
            "0.0879846895265603\n"
          ]
        }
      ]
    },
    {
      "cell_type": "code",
      "source": [
        "sns.barplot(x = Data['Gender'], y = Data['Has a bank account'])"
      ],
      "metadata": {
        "id": "l3F0g9xZDjh0",
        "colab": {
          "base_uri": "https://localhost:8080/",
          "height": 297
        },
        "outputId": "1dd7fe68-1d9d-4632-b290-9807448b4794"
      },
      "execution_count": null,
      "outputs": [
        {
          "output_type": "execute_result",
          "data": {
            "text/plain": [
              "<matplotlib.axes._subplots.AxesSubplot at 0x7f9a5c038ad0>"
            ]
          },
          "metadata": {},
          "execution_count": 262
        },
        {
          "output_type": "display_data",
          "data": {
            "text/plain": [
              "<Figure size 432x288 with 1 Axes>"
            ],
            "image/png": "[encoded data removed]"
          },
          "metadata": {
            "needs_background": "light"
          }
        }
      ]
    },
    {
      "cell_type": "code",
      "source": [
        "male_vs_account_corr = (Data['Gender']== 1).corr(Data['Has a bank account'] == 2, method = 'pearson')\n",
        "print(male_vs_account_corr)\n",
        "\n",
        "# There is a weak positive correlation between being male and owning an account"
      ],
      "metadata": {
        "id": "5cLeyclqUV0Y",
        "colab": {
          "base_uri": "https://localhost:8080/"
        },
        "outputId": "de391636-4ba3-42bf-c023-0bf0c1d4e403"
      },
      "execution_count": null,
      "outputs": [
        {
          "output_type": "stream",
          "name": "stdout",
          "text": [
            "0.11643305677896597\n"
          ]
        }
      ]
    },
    {
      "cell_type": "code",
      "source": [
        "female_vs_account_corr = (Data['Gender']== 2).corr(Data['Has a bank account'] == 2, method = 'pearson')\n",
        "print(female_vs_account_corr)\n",
        "\n",
        "# There is a weak negative correlation between being female and having an account."
      ],
      "metadata": {
        "id": "xsMHY-GQUsi6",
        "colab": {
          "base_uri": "https://localhost:8080/"
        },
        "outputId": "9a2f2154-5cd9-4343-d2af-042b3ae07c77"
      },
      "execution_count": null,
      "outputs": [
        {
          "output_type": "stream",
          "name": "stdout",
          "text": [
            "-0.11617607014276658\n"
          ]
        }
      ]
    },
    {
      "cell_type": "code",
      "source": [
        "sns.barplot(x = Data['Marital_status'], y = Data['Has a bank account'])"
      ],
      "metadata": {
        "id": "ckPL6l4VEQwM",
        "colab": {
          "base_uri": "https://localhost:8080/",
          "height": 298
        },
        "outputId": "36b8ebc7-3201-4145-a33a-9aac9897a979"
      },
      "execution_count": null,
      "outputs": [
        {
          "output_type": "execute_result",
          "data": {
            "text/plain": [
              "<matplotlib.axes._subplots.AxesSubplot at 0x7f9a5b720a50>"
            ]
          },
          "metadata": {},
          "execution_count": 265
        },
        {
          "output_type": "display_data",
          "data": {
            "text/plain": [
              "<Figure size 432x288 with 1 Axes>"
            ],
            "image/png": "[encoded data removed]"
          },
          "metadata": {
            "needs_background": "light"
          }
        }
      ]
    },
    {
      "cell_type": "code",
      "source": [
        "married_vs_account_corr = (Data['Marital_status']== 1).corr(Data['Has a bank account'] == 2, method = 'pearson')\n",
        "print(married_vs_account_corr)  \n",
        "\n",
        "# There is a very weak positive correlation between being married and living together to having a bank account"
      ],
      "metadata": {
        "id": "nbBJSJp2VAJn",
        "colab": {
          "base_uri": "https://localhost:8080/"
        },
        "outputId": "426a47d0-5f9f-4f3a-f5de-436e5e5f6c4f"
      },
      "execution_count": null,
      "outputs": [
        {
          "output_type": "stream",
          "name": "stdout",
          "text": [
            "0.08699364285285949\n"
          ]
        }
      ]
    },
    {
      "cell_type": "code",
      "source": [
        "widowed_vs_account_corr = (Data['Marital_status']== 2).corr(Data['Has a bank account'] == 2, method = 'pearson')\n",
        "print(widowed_vs_account_corr) \n",
        "\n",
        "# There is a weak negative correlation between being widowed and having a bank account"
      ],
      "metadata": {
        "id": "uV_zZ1RnVpTD",
        "colab": {
          "base_uri": "https://localhost:8080/"
        },
        "outputId": "4afebbb2-d3f6-4330-c0e0-ba5f65edbe11"
      },
      "execution_count": null,
      "outputs": [
        {
          "output_type": "stream",
          "name": "stdout",
          "text": [
            "-0.05218010348397538\n"
          ]
        }
      ]
    },
    {
      "cell_type": "code",
      "source": [
        "single_vs_account_corr = (Data['Marital_status']== 3).corr(Data['Has a bank account'] == 2, method = 'pearson')\n",
        "print(single_vs_account_corr) \n",
        "\n",
        "# There is a weak negative correlation between being single and owning a bank account"
      ],
      "metadata": {
        "id": "3JxbFsr_VpHL",
        "colab": {
          "base_uri": "https://localhost:8080/"
        },
        "outputId": "5051eb39-b9e7-428e-ec30-a69eab020c50"
      },
      "execution_count": null,
      "outputs": [
        {
          "output_type": "stream",
          "name": "stdout",
          "text": [
            "-0.040876852002425454\n"
          ]
        }
      ]
    },
    {
      "cell_type": "code",
      "source": [
        "divorced_vs_account_corr = (Data['Marital_status']== 4).corr(Data['Has a bank account'] == 2, method = 'pearson')\n",
        "print(divorced_vs_account_corr) \n",
        "\n",
        "# There is a weak negative correlation between being divorced and having a bank account"
      ],
      "metadata": {
        "id": "q8fY3ae0Vo6-",
        "colab": {
          "base_uri": "https://localhost:8080/"
        },
        "outputId": "ab69d77a-fb07-435e-9755-a536981608ba"
      },
      "execution_count": null,
      "outputs": [
        {
          "output_type": "stream",
          "name": "stdout",
          "text": [
            "-0.025219585358836664\n"
          ]
        }
      ]
    },
    {
      "cell_type": "code",
      "source": [
        "complicated_vs_account_corr = (Data['Marital_status']== 5).corr(Data['Has a bank account'] == 2, method = 'pearson')\n",
        "print(complicated_vs_account_corr) \n",
        "\n",
        "# The is a very very weak correlation between not knowing your marital status and having a bank account."
      ],
      "metadata": {
        "id": "mnMcTU-hWTaG",
        "colab": {
          "base_uri": "https://localhost:8080/"
        },
        "outputId": "e04573d2-adc4-48e7-f5b1-525f1147fd9f"
      },
      "execution_count": null,
      "outputs": [
        {
          "output_type": "stream",
          "name": "stdout",
          "text": [
            "0.0058002802214027396\n"
          ]
        }
      ]
    },
    {
      "cell_type": "code",
      "source": [
        "sns.barplot(x = Data['Relationship with head'], y = Data['Has a bank account'])"
      ],
      "metadata": {
        "id": "Q_rjRm6fE4cV",
        "colab": {
          "base_uri": "https://localhost:8080/",
          "height": 297
        },
        "outputId": "edb2af4d-d185-409d-9a28-5baee6ccf168"
      },
      "execution_count": null,
      "outputs": [
        {
          "output_type": "execute_result",
          "data": {
            "text/plain": [
              "<matplotlib.axes._subplots.AxesSubplot at 0x7f9a5be48890>"
            ]
          },
          "metadata": {},
          "execution_count": 271
        },
        {
          "output_type": "display_data",
          "data": {
            "text/plain": [
              "<Figure size 432x288 with 1 Axes>"
            ],
            "image/png": "[encoded data removed]"
          },
          "metadata": {
            "needs_background": "light"
          }
        }
      ]
    },
    {
      "cell_type": "code",
      "source": [
        "# Spouse vs account  correlation\n",
        "rel_vs_account_corr = (Data['Relationship with head']== 1).corr(Data['Has a bank account'] == 2, method = 'pearson')\n",
        "print(rel_vs_account_corr)"
      ],
      "metadata": {
        "id": "fnvBlwMbYxtb",
        "colab": {
          "base_uri": "https://localhost:8080/"
        },
        "outputId": "05582eb2-941c-4df2-9acf-1f682333e429"
      },
      "execution_count": null,
      "outputs": [
        {
          "output_type": "stream",
          "name": "stdout",
          "text": [
            "-0.06060855859155518\n"
          ]
        }
      ]
    },
    {
      "cell_type": "code",
      "source": [
        "# Relative vs account correlation\n",
        "Rel_vs_account_corr = (Data['Relationship with head']== 2).corr(Data['Has a bank account'] == 2, method = 'pearson')\n",
        "print(Rel_vs_account_corr)"
      ],
      "metadata": {
        "id": "TiZ__cBQZMS_",
        "colab": {
          "base_uri": "https://localhost:8080/"
        },
        "outputId": "b4d171aa-f886-4cc7-f0bb-60932c57fc40"
      },
      "execution_count": null,
      "outputs": [
        {
          "output_type": "stream",
          "name": "stdout",
          "text": [
            "-0.021320526919336058\n"
          ]
        }
      ]
    },
    {
      "cell_type": "code",
      "source": [
        "# Child vs account correlation\n",
        "rela_vs_account_corr = (Data['Relationship with head']== 3).corr(Data['Has a bank account'] == 2, method = 'pearson')\n",
        "print(rela_vs_account_corr)"
      ],
      "metadata": {
        "id": "J8VPSdrbZMHd",
        "colab": {
          "base_uri": "https://localhost:8080/"
        },
        "outputId": "dab1dcd7-9df5-4ae6-c9bc-ee93e379adf3"
      },
      "execution_count": null,
      "outputs": [
        {
          "output_type": "stream",
          "name": "stdout",
          "text": [
            "-0.050323437161744644\n"
          ]
        }
      ]
    },
    {
      "cell_type": "code",
      "source": [
        "# Parent vs account correlation\n",
        "relat_vs_account_corr = (Data['Relationship with head']== 4).corr(Data['Has a bank account'] == 2, method = 'pearson')\n",
        "print(relat_vs_account_corr)"
      ],
      "metadata": {
        "id": "vYQpetMkZL74",
        "colab": {
          "base_uri": "https://localhost:8080/"
        },
        "outputId": "03896f0c-2b8b-4dad-87ed-87c24cb5ec02"
      },
      "execution_count": null,
      "outputs": [
        {
          "output_type": "stream",
          "name": "stdout",
          "text": [
            "-0.05113586319240957\n"
          ]
        }
      ]
    },
    {
      "cell_type": "code",
      "source": [
        "# Non_relative vs account correlation\n",
        "Rela_vs_account_corr = (Data['Relationship with head']== 5).corr(Data['Has a bank account'] == 2, method = 'pearson')\n",
        "print(Rela_vs_account_corr)"
      ],
      "metadata": {
        "id": "Ve2KHOQLZLvq",
        "colab": {
          "base_uri": "https://localhost:8080/"
        },
        "outputId": "115062f9-53d6-4d13-c675-5157f2a099bd"
      },
      "execution_count": null,
      "outputs": [
        {
          "output_type": "stream",
          "name": "stdout",
          "text": [
            "-0.009188236696016495\n"
          ]
        }
      ]
    },
    {
      "cell_type": "code",
      "source": [
        "# Head of the house vs account correlation\n",
        "Relat_vs_account_corr = (Data['Relationship with head']== 6).corr(Data['Has a bank account'] == 2, method = 'pearson')\n",
        "print(Relat_vs_account_corr)\n",
        "\n",
        "# The head of the house is the only subvariable with a positive correlation to having an account."
      ],
      "metadata": {
        "id": "HyoVWzWsZLi0",
        "colab": {
          "base_uri": "https://localhost:8080/"
        },
        "outputId": "8a561468-d046-44bf-ee6d-4b2324181d49"
      },
      "execution_count": null,
      "outputs": [
        {
          "output_type": "stream",
          "name": "stdout",
          "text": [
            "0.11452690675575133\n"
          ]
        }
      ]
    },
    {
      "cell_type": "code",
      "source": [
        "sns.barplot(x = Data['Level of Education'], y = Data['Has a bank account'])"
      ],
      "metadata": {
        "id": "dzxDdkpvE_14",
        "colab": {
          "base_uri": "https://localhost:8080/",
          "height": 297
        },
        "outputId": "cdb186ea-4dc1-47bb-9ef2-c0d734526018"
      },
      "execution_count": null,
      "outputs": [
        {
          "output_type": "execute_result",
          "data": {
            "text/plain": [
              "<matplotlib.axes._subplots.AxesSubplot at 0x7f9a5ccccc90>"
            ]
          },
          "metadata": {},
          "execution_count": 278
        },
        {
          "output_type": "display_data",
          "data": {
            "text/plain": [
              "<Figure size 432x288 with 1 Axes>"
            ],
            "image/png": "[encoded data removed]"
          },
          "metadata": {
            "needs_background": "light"
          }
        }
      ]
    },
    {
      "cell_type": "code",
      "source": [
        "# secondary education vs account\n",
        "sec_vs_account_corr = (Data['Level of Education']== 1).corr(Data['Has a bank account'] == 2, method = 'pearson')\n",
        "print(sec_vs_account_corr)\n",
        "\n",
        "# Weak positive correlation"
      ],
      "metadata": {
        "id": "SwX5xvBTeqZp",
        "colab": {
          "base_uri": "https://localhost:8080/"
        },
        "outputId": "91616096-deae-40b5-b9c5-4dc4fbdad4ba"
      },
      "execution_count": null,
      "outputs": [
        {
          "output_type": "stream",
          "name": "stdout",
          "text": [
            "0.12377100153132915\n"
          ]
        }
      ]
    },
    {
      "cell_type": "code",
      "source": [
        "# No formal education vs account\n",
        "none_vs_account_corr = (Data['Level of Education']== 0).corr(Data['Has a bank account'] == 2, method = 'pearson')\n",
        "print(none_vs_account_corr)\n",
        "\n",
        "# Weak negative correlation"
      ],
      "metadata": {
        "id": "6JazpgKMeqU0",
        "colab": {
          "base_uri": "https://localhost:8080/"
        },
        "outputId": "49d4341f-871e-458e-deaa-510237fb7d88"
      },
      "execution_count": null,
      "outputs": [
        {
          "output_type": "stream",
          "name": "stdout",
          "text": [
            "-0.1425489089177832\n"
          ]
        }
      ]
    },
    {
      "cell_type": "code",
      "source": [
        "# Vocational training vs account\n",
        "vocation_vs_account_corr = (Data['Level of Education']== 2).corr(Data['Has a bank account'] == 2, method = 'pearson')\n",
        "print(vocation_vs_account_corr)\n",
        "\n",
        "# Weak positive correlation"
      ],
      "metadata": {
        "id": "VY-NJXJ_eqPg",
        "colab": {
          "base_uri": "https://localhost:8080/"
        },
        "outputId": "ccef3913-03ed-4876-9214-77dfe92f0804"
      },
      "execution_count": null,
      "outputs": [
        {
          "output_type": "stream",
          "name": "stdout",
          "text": [
            "0.23234405943212327\n"
          ]
        }
      ]
    },
    {
      "cell_type": "code",
      "source": [
        "# Primary education vs account\n",
        "primary_vs_account_corr = (Data['Level of Education']== 3).corr(Data['Has a bank account'] == 2, method = 'pearson')\n",
        "print(primary_vs_account_corr)\n",
        "\n",
        "# Weak negative correlation"
      ],
      "metadata": {
        "id": "oxUsB4lleqLg",
        "colab": {
          "base_uri": "https://localhost:8080/"
        },
        "outputId": "f887bd29-d4e1-4ccc-a0b4-2affe5fa62c5"
      },
      "execution_count": null,
      "outputs": [
        {
          "output_type": "stream",
          "name": "stdout",
          "text": [
            "-0.17377636018939693\n"
          ]
        }
      ]
    },
    {
      "cell_type": "code",
      "source": [
        "# Tertiary education vs account\n",
        "tert_vs_account_corr = (Data['Level of Education']== 4).corr(Data['Has a bank account'] == 2, method = 'pearson')\n",
        "print(tert_vs_account_corr)\n",
        "\n",
        "# Weak positive correlation"
      ],
      "metadata": {
        "id": "yKcjWzX9eqIy",
        "colab": {
          "base_uri": "https://localhost:8080/"
        },
        "outputId": "a97ed29f-316e-4e37-82e7-24e385a11711"
      },
      "execution_count": null,
      "outputs": [
        {
          "output_type": "stream",
          "name": "stdout",
          "text": [
            "0.24231159394003524\n"
          ]
        }
      ]
    },
    {
      "cell_type": "code",
      "source": [
        "# Other levels of education\n",
        "other_vs_account_corr = (Data['Level of Education']== 5).corr(Data['Has a bank account'] == 2, method = 'pearson')\n",
        "print(other_vs_account_corr)\n",
        "\n",
        "# Very weak positive correlation"
      ],
      "metadata": {
        "id": "YxdIIFB9eqFq",
        "colab": {
          "base_uri": "https://localhost:8080/"
        },
        "outputId": "b135b46a-002e-4b35-c0d5-d83e5c8f1b15"
      },
      "execution_count": null,
      "outputs": [
        {
          "output_type": "stream",
          "name": "stdout",
          "text": [
            "0.032325511933743084\n"
          ]
        }
      ]
    },
    {
      "cell_type": "code",
      "source": [
        "sns.barplot(x = Data['Type of Job'], y = Data['Has a bank account'])"
      ],
      "metadata": {
        "id": "_cGG5SHpf3RL",
        "colab": {
          "base_uri": "https://localhost:8080/",
          "height": 297
        },
        "outputId": "e621715b-dcda-4a05-f400-36cea0f89254"
      },
      "execution_count": null,
      "outputs": [
        {
          "output_type": "execute_result",
          "data": {
            "text/plain": [
              "<matplotlib.axes._subplots.AxesSubplot at 0x7f9a62495e90>"
            ]
          },
          "metadata": {},
          "execution_count": 285
        },
        {
          "output_type": "display_data",
          "data": {
            "text/plain": [
              "<Figure size 432x288 with 1 Axes>"
            ],
            "image/png": "[encoded data removed]"
          },
          "metadata": {
            "needs_background": "light"
          }
        }
      ]
    },
    {
      "cell_type": "code",
      "source": [
        "# none vs account\n",
        "none_vs_account_corr = (Data['Type of Job']== 10).corr(Data['Has a bank account'] == 2, method = 'pearson')\n",
        "print(none_vs_account_corr)\n",
        "\n",
        "# negative correlation"
      ],
      "metadata": {
        "id": "_8ELLC9bcqdT",
        "colab": {
          "base_uri": "https://localhost:8080/"
        },
        "outputId": "0aba60a5-db00-45cb-eaae-9f5548fa7ca4"
      },
      "execution_count": null,
      "outputs": [
        {
          "output_type": "stream",
          "name": "stdout",
          "text": [
            "-0.05708244593357365\n"
          ]
        }
      ]
    },
    {
      "cell_type": "code",
      "source": [
        "# other income vs account\n",
        "other_vs_account_corr = (Data['Type of Job']== 8).corr(Data['Has a bank account'] == 2, method = 'pearson')\n",
        "print(other_vs_account_corr)\n",
        "\n",
        " # Positive correlation"
      ],
      "metadata": {
        "id": "FQ0Vomx0cgkE",
        "colab": {
          "base_uri": "https://localhost:8080/"
        },
        "outputId": "48f2a4b5-29a5-4dba-ad2f-7bfe48a60e9b"
      },
      "execution_count": null,
      "outputs": [
        {
          "output_type": "stream",
          "name": "stdout",
          "text": [
            "0.025752819942904296\n"
          ]
        }
      ]
    },
    {
      "cell_type": "code",
      "source": [
        "# Informal employment vs account\n",
        "informal_vs_account_corr = (Data['Type of Job']== 7).corr(Data['Has a bank account'] == 2, method = 'pearson')\n",
        "print(informal_vs_account_corr)\n",
        "\n",
        "# Negative correlation(weak)"
      ],
      "metadata": {
        "id": "_R2xQVCacZsB",
        "colab": {
          "base_uri": "https://localhost:8080/"
        },
        "outputId": "2ebc5c46-e266-477d-f25f-ee829e7fd43a"
      },
      "execution_count": null,
      "outputs": [
        {
          "output_type": "stream",
          "name": "stdout",
          "text": [
            "-0.09880682556306596\n"
          ]
        }
      ]
    },
    {
      "cell_type": "code",
      "source": [
        "# Remittant vs account\n",
        "remit_vs_account_corr = (Data['Type of Job']== 6).corr(Data['Has a bank account'] == 2, method = 'pearson')\n",
        "print(remit_vs_account_corr)\n",
        "\n",
        "# Negative correlation(weak)"
      ],
      "metadata": {
        "id": "n2rWQNhJcTgf",
        "colab": {
          "base_uri": "https://localhost:8080/"
        },
        "outputId": "71db1e1a-9cea-4a5d-cce7-83c89c0bc4c4"
      },
      "execution_count": null,
      "outputs": [
        {
          "output_type": "stream",
          "name": "stdout",
          "text": [
            "-0.04544784021712651\n"
          ]
        }
      ]
    },
    {
      "cell_type": "code",
      "source": [
        "# Fish and farms vas account\n",
        "farmfish_vs_account_corr = (Data['Type of Job']== 5).corr(Data['Has a bank account'] == 2, method = 'pearson')\n",
        "print(farmfish_vs_account_corr)\n",
        "\n",
        "# Negative correlation(weak)"
      ],
      "metadata": {
        "id": "nG3mmAH9cL6b",
        "colab": {
          "base_uri": "https://localhost:8080/"
        },
        "outputId": "e24ee43a-c229-47b6-db36-1277e2da9d49"
      },
      "execution_count": null,
      "outputs": [
        {
          "output_type": "stream",
          "name": "stdout",
          "text": [
            "-0.0377826984107736\n"
          ]
        }
      ]
    },
    {
      "cell_type": "code",
      "source": [
        "# Self employed vs account\n",
        "self_vs_account_corr = (Data['Type of Job']== 1).corr(Data['Has a bank account'] == 2, method = 'pearson')\n",
        "print(self_vs_account_corr)\n",
        "\n",
        "# Negative correlation(weak)"
      ],
      "metadata": {
        "id": "hTgBWXK6bQyO",
        "colab": {
          "base_uri": "https://localhost:8080/"
        },
        "outputId": "f95d78ea-47cd-442d-8fd8-ff7bb2b8c177"
      },
      "execution_count": null,
      "outputs": [
        {
          "output_type": "stream",
          "name": "stdout",
          "text": [
            "-0.015692376717406756\n"
          ]
        }
      ]
    },
    {
      "cell_type": "code",
      "source": [
        "# Government dependent vs account\n",
        "govdep_vs_account_corr = (Data['Type of Job']== 2).corr(Data['Has a bank account'] == 2, method = 'pearson')\n",
        "print(govdep_vs_account_corr)\n",
        "\n",
        "# Positive correlation(weak)"
      ],
      "metadata": {
        "id": "5WI2LHjvbQvd",
        "colab": {
          "base_uri": "https://localhost:8080/"
        },
        "outputId": "40605290-b2df-4367-a72d-93d7a1f5d983"
      },
      "execution_count": null,
      "outputs": [
        {
          "output_type": "stream",
          "name": "stdout",
          "text": [
            "0.01829988621864755\n"
          ]
        }
      ]
    },
    {
      "cell_type": "code",
      "source": [
        "# Formal private employment vs account\n",
        "formprivate_vs_account_corr = (Data['Type of Job']== 3).corr(Data['Has a bank account'] == 2, method = 'pearson')\n",
        "print(formprivate_vs_account_corr)\n",
        "\n",
        "# Positive correlation(weak)"
      ],
      "metadata": {
        "id": "_4oTMdgAbQsV",
        "colab": {
          "base_uri": "https://localhost:8080/"
        },
        "outputId": "fa1ef045-4420-42de-bccc-6eae68274b3d"
      },
      "execution_count": null,
      "outputs": [
        {
          "output_type": "stream",
          "name": "stdout",
          "text": [
            "0.24965245778993597\n"
          ]
        }
      ]
    },
    {
      "cell_type": "code",
      "source": [
        "# Formal government employment vs account\n",
        "formgovt_vs_account_corr = (Data['Type of Job']== 4).corr(Data['Has a bank account'] == 2, method = 'pearson')\n",
        "print(formgovt_vs_account_corr)\n",
        "\n",
        "# Positive correlation(weak)"
      ],
      "metadata": {
        "id": "zd9XfUJrbQeM",
        "colab": {
          "base_uri": "https://localhost:8080/"
        },
        "outputId": "0b349964-bb71-4b4a-d489-a802e94d99be"
      },
      "execution_count": null,
      "outputs": [
        {
          "output_type": "stream",
          "name": "stdout",
          "text": [
            "0.23603657912200526\n"
          ]
        }
      ]
    },
    {
      "cell_type": "markdown",
      "source": [
        "##### There are weak positive correlations between:  \n",
        "*   (respondent age, formal government, formal private employment, being a government dependent, having other forms of income, being the head of the house, being married, being male and urban location) and having a bank account\n",
        "\n",
        "While\n",
        "\n",
        "there are weak negative correlations between:\n",
        "*   (household size, rural location, being female, widowed, single or divorced, being a spouse, child, relative, non-relative or parent, having no formal education or only primary education, being unemployed or informally employed, or a remittant, being a fisherman or farmer or being self-employed) and having a bank account\n",
        "\n",
        "\n",
        "> When there is a positive correlation, it indicates that a variable y increases or decreases with increase or decrease(respectively) of the other variable x, whereas when there is a negative correlation, it indicates that a variable y does not increase with increase of the other variable x.\n",
        "In this case variable y is the changing variable in the plots, while variable x is having a bank account."
      ],
      "metadata": {
        "id": "bUx2o-0hhiNs"
      }
    },
    {
      "cell_type": "markdown",
      "source": [
        "###Multivariate Analysis."
      ],
      "metadata": {
        "id": "r2fdkZaym5pF"
      }
    },
    {
      "cell_type": "code",
      "source": [
        "sns.pairplot(Data)"
      ],
      "metadata": {
        "colab": {
          "base_uri": "https://localhost:8080/",
          "height": 1000
        },
        "id": "Cbm_XnRbnGdN",
        "outputId": "92a4b9e4-05c7-43d9-9f2c-9c4f3d63fa6e"
      },
      "execution_count": null,
      "outputs": [
        {
          "output_type": "execute_result",
          "data": {
            "text/plain": [
              "<seaborn.axisgrid.PairGrid at 0x7f9a5b655490>"
            ]
          },
          "metadata": {},
          "execution_count": 313
        },
        {
          "output_type": "display_data",
          "data": {
            "text/plain": [
              "<Figure size 1980x1980 with 132 Axes>"
            ],
            "image/png": "[encoded data removed]"
          },
          "metadata": {
            "needs_background": "light"
          }
        }
      ]
    },
    {
      "cell_type": "code",
      "source": [
        "# Plotting a correlation matrix to view how different variables correlate to each other\n",
        "sns.heatmap(Data.corr(),annot=True)\n",
        "plt.show()"
      ],
      "metadata": {
        "id": "m_dahXJ0OL_4",
        "colab": {
          "base_uri": "https://localhost:8080/",
          "height": 373
        },
        "outputId": "486f6919-9118-4fcd-ddf5-c91ecd3b22f4"
      },
      "execution_count": null,
      "outputs": [
        {
          "output_type": "display_data",
          "data": {
            "text/plain": [
              "<Figure size 432x288 with 2 Axes>"
            ],
            "image/png": "[encoded data removed]"
          },
          "metadata": {
            "needs_background": "light"
          }
        }
      ]
    },
    {
      "cell_type": "markdown",
      "metadata": {
        "id": "vTbdjSrhVIiT"
      },
      "source": [
        "## 7. Implementing the Solution"
      ]
    },
    {
      "cell_type": "markdown",
      "source": [
        "\n",
        "\n",
        "> Principle Component Analysis\n",
        "\n"
      ],
      "metadata": {
        "id": "fXzhwELz_tC5"
      }
    },
    {
      "cell_type": "code",
      "source": [
        "# Preprocessing\n",
        "# Dividing the dataset into a feature set and corresponding labels. \n",
        "# The following script performs this task. The script below stores the feature sets into the w variable \n",
        "# and the series of corresponding labels in to the t variable.\n",
        "# \n",
        "w = Data.drop('Has a bank account', 1)\n",
        "t = Data['Has a bank account']"
      ],
      "metadata": {
        "id": "nxVzWxXs_0wL",
        "colab": {
          "base_uri": "https://localhost:8080/"
        },
        "outputId": "d8672c44-68d4-48dc-dba4-b7cc4dbc5ca8"
      },
      "execution_count": null,
      "outputs": [
        {
          "output_type": "stream",
          "name": "stderr",
          "text": [
            "/usr/local/lib/python3.7/dist-packages/ipykernel_launcher.py:6: FutureWarning: In a future version of pandas all arguments of DataFrame.drop except for the argument 'labels' will be keyword-only\n",
            "  \n"
          ]
        }
      ]
    },
    {
      "cell_type": "code",
      "source": [
        "# Splitting the dataset into the Training set and Test set\n",
        "#\n",
        "from sklearn.model_selection import train_test_split\n",
        "\n",
        "w_train, w_test, t_train, t_test = train_test_split(w, t, test_size=0.2, random_state=0)"
      ],
      "metadata": {
        "id": "Xhbr1V0Q_0qP"
      },
      "execution_count": null,
      "outputs": []
    },
    {
      "cell_type": "code",
      "source": [
        "# Normalization\n",
        "# \n",
        "from sklearn.preprocessing import StandardScaler\n",
        "\n",
        "sc = StandardScaler()\n",
        "w_train = sc.fit_transform(w_train)\n",
        "w_test = sc.transform(w_test)"
      ],
      "metadata": {
        "id": "8XUIoixC_0n1"
      },
      "execution_count": null,
      "outputs": []
    },
    {
      "cell_type": "code",
      "source": [
        "# Applying PCA\n",
        "# \n",
        "from sklearn.decomposition import PCA\n",
        "\n",
        "pca = PCA()\n",
        "w_train = pca.fit_transform(w_train)\n",
        "w_test = pca.transform(w_test)"
      ],
      "metadata": {
        "id": "rOuiDqIV_0lv"
      },
      "execution_count": null,
      "outputs": []
    },
    {
      "cell_type": "code",
      "source": [
        "# Explaining Variance Ratio\n",
        "# \n",
        "explained_variance = pca.explained_variance_ratio_\n",
        "\n",
        "# First principal component is responsible for 18.76% variance. \n",
        "# Second principal component causes 14.56% variance in the dataset. \n",
        "# Collectively we can say that\n",
        "# print(0.18759207 + 0.14562755 + 0.12406139 + 0.11415974 + 0.09116239 + 0.07683294 + 0.07417711 + 0.06267692 + 0.04872078 + 0.04187411)# + 0.033115)\n",
        "# 96.69% percent of the classification information contained \n",
        "# in the feature set is captured by the first ten principal components.\n",
        "explained_variance"
      ],
      "metadata": {
        "id": "L6iezPiE_0jg",
        "colab": {
          "base_uri": "https://localhost:8080/"
        },
        "outputId": "3b6169ee-a7ca-4f9e-ecd2-2622853004de"
      },
      "execution_count": null,
      "outputs": [
        {
          "output_type": "execute_result",
          "data": {
            "text/plain": [
              "array([0.18759207, 0.14562755, 0.12406139, 0.11415974, 0.09116239,\n",
              "       0.07683294, 0.07417711, 0.06267692, 0.04872078, 0.04187411,\n",
              "       0.033115  ])"
            ]
          },
          "metadata": {},
          "execution_count": 299
        }
      ]
    },
    {
      "cell_type": "code",
      "source": [
        "# Using 1 Principal Component\n",
        "# Trying to use 2 principal component to train our algorithm. To do so, execute the following code:\n",
        "# \n",
        "from sklearn.decomposition import PCA\n",
        "\n",
        "pca = PCA(n_components=1)\n",
        "w_train = pca.fit_transform(w_train)\n",
        "w_test = pca.transform(w_test)"
      ],
      "metadata": {
        "id": "Eim9jPrs_0gC"
      },
      "execution_count": null,
      "outputs": []
    },
    {
      "cell_type": "code",
      "source": [
        "# Training and Making Predictions\n",
        "# Using random forest classification for making the predictions.\n",
        "# \n",
        "from sklearn.ensemble import RandomForestClassifier\n",
        "\n",
        "classifier = RandomForestClassifier(max_depth=2, random_state=0)\n",
        "classifier.fit(w_train, t_train)\n",
        "\n",
        "# Predicting the Test set results\n",
        "t_pred = classifier.predict(w_test)"
      ],
      "metadata": {
        "id": "DYMrpBmm_0bh"
      },
      "execution_count": null,
      "outputs": []
    },
    {
      "cell_type": "code",
      "source": [
        "# Performance Evaluation\n",
        "# \n",
        "from sklearn.metrics import confusion_matrix\n",
        "from sklearn.metrics import accuracy_score\n",
        "\n",
        "cm = confusion_matrix(t_test, t_pred)\n",
        "print(cm)\n",
        "print('Accuracy' , accuracy_score(t_test, t_pred))\n",
        "\n",
        "# Noting that from the output that with only one feature, the random forest algorithm is able to correctly predict 84 out of 100 instances. \n",
        "# Accuracy = 84.95%."
      ],
      "metadata": {
        "id": "C1tRG9U-_0YJ",
        "colab": {
          "base_uri": "https://localhost:8080/"
        },
        "outputId": "e455293c-f967-405b-96d6-a763d2808f8c"
      },
      "execution_count": null,
      "outputs": [
        {
          "output_type": "stream",
          "name": "stdout",
          "text": [
            "[[   0    9    0]\n",
            " [   0 3997    0]\n",
            " [   0  699    0]]\n",
            "Accuracy 0.8495217853347503\n"
          ]
        }
      ]
    },
    {
      "cell_type": "code",
      "source": [
        "# Using 2 Principal Components\n",
        "#\n",
        "from sklearn.decomposition import PCA\n",
        "w_train, w_test, t_train, t_test = train_test_split(w, t, test_size=0.2, random_state=0)\n",
        "\n",
        "sc = StandardScaler()\n",
        "w_train = sc.fit_transform(w_train)\n",
        "w_test = sc.transform(w_test)\n",
        "\n",
        "pca = PCA(n_components=2)\n",
        "w_train = pca.fit_transform(w_train)\n",
        "w_test = pca.transform(w_test)\n",
        "\n",
        "# With three principal components the classification accuracy should again increase to 93.33%\n",
        "classifier = RandomForestClassifier(max_depth=2, random_state=0)\n",
        "classifier.fit(w_train, t_train)\n",
        "\n",
        "from sklearn.metrics import confusion_matrix\n",
        "from sklearn.metrics import accuracy_score\n",
        "\n",
        "CM = confusion_matrix(t_test, t_pred)\n",
        "print(CM)\n",
        "print('Accuracy' , accuracy_score(t_test, t_pred))\n",
        "\n",
        "# Accuracy = 84.95%"
      ],
      "metadata": {
        "id": "7p2QO5ed_0VE",
        "colab": {
          "base_uri": "https://localhost:8080/"
        },
        "outputId": "4e626142-3e25-4aa5-9f7d-c5f4fb88747b"
      },
      "execution_count": null,
      "outputs": [
        {
          "output_type": "stream",
          "name": "stdout",
          "text": [
            "[[   0    9    0]\n",
            " [   0 3997    0]\n",
            " [   0  699    0]]\n",
            "Accuracy 0.8495217853347503\n"
          ]
        }
      ]
    },
    {
      "cell_type": "code",
      "source": [
        "# Using 3 Principal Components\n",
        "from sklearn.decomposition import PCA\n",
        "w_train, w_test, t_train, t_test = train_test_split(w, t, test_size=0.2, random_state=0)\n",
        "\n",
        "sc = StandardScaler()\n",
        "w_train = sc.fit_transform(w_train)\n",
        "w_test = sc.transform(w_test)\n",
        "\n",
        "pca = PCA(n_components=3)\n",
        "w_train = pca.fit_transform(w_train)\n",
        "w_test = pca.transform(w_test)\n",
        "\n",
        "\n",
        "classifier = RandomForestClassifier(max_depth=2, random_state=0)\n",
        "classifier.fit(w_train, t_train)\n",
        "\n",
        "from sklearn.metrics import confusion_matrix\n",
        "from sklearn.metrics import accuracy_score\n",
        "\n",
        "cm = confusion_matrix(t_test, t_pred)\n",
        "print(cm)\n",
        "print('Accuracy' , accuracy_score(t_test, t_pred))\n",
        "# Accuracy = 84.95%"
      ],
      "metadata": {
        "id": "GjY4cZlA_0Sq",
        "colab": {
          "base_uri": "https://localhost:8080/"
        },
        "outputId": "2c17a44b-d00f-41ba-d8a9-daa0b2481e0f"
      },
      "execution_count": null,
      "outputs": [
        {
          "output_type": "stream",
          "name": "stdout",
          "text": [
            "[[   0    9    0]\n",
            " [   0 3997    0]\n",
            " [   0  699    0]]\n",
            "Accuracy 0.8495217853347503\n"
          ]
        }
      ]
    },
    {
      "cell_type": "code",
      "source": [
        "# Using all the Principal Components\n",
        "from sklearn.decomposition import PCA\n",
        "w_train, w_test, t_train, t_test = train_test_split(w, t, test_size=0.2, random_state=0)\n",
        "\n",
        "sc = StandardScaler()\n",
        "w_train = sc.fit_transform(w_train)\n",
        "w_test = sc.transform(w_test)\n",
        "\n",
        "pca = PCA(n_components = 11)\n",
        "w_train = pca.fit_transform(w_train)\n",
        "w_test = pca.transform(w_test)\n",
        "\n",
        "\n",
        "classifier = RandomForestClassifier(max_depth=2, random_state=0)\n",
        "classifier.fit(w_train, t_train)\n",
        "\n",
        "from sklearn.metrics import confusion_matrix\n",
        "from sklearn.metrics import accuracy_score\n",
        "\n",
        "cm = confusion_matrix(t_test, t_pred)\n",
        "print(cm)\n",
        "print('Accuracy' , accuracy_score(t_test, t_pred))\n",
        "\n",
        "# The accuracy received is still 84.95%"
      ],
      "metadata": {
        "id": "-eo3nDEoKnPQ",
        "colab": {
          "base_uri": "https://localhost:8080/"
        },
        "outputId": "6891c426-623f-4b83-b75b-0ff0fe29ee64"
      },
      "execution_count": null,
      "outputs": [
        {
          "output_type": "stream",
          "name": "stdout",
          "text": [
            "[[   0    9    0]\n",
            " [   0 3997    0]\n",
            " [   0  699    0]]\n",
            "Accuracy 0.8495217853347503\n"
          ]
        }
      ]
    },
    {
      "cell_type": "markdown",
      "source": [
        "\n",
        "\n",
        "> Factor analysis\n",
        "\n"
      ],
      "metadata": {
        "id": "2PBkBgfwLy5c"
      }
    },
    {
      "cell_type": "code",
      "source": [
        "# Adequacy Test\n",
        "# There are two methods to check the factorability or sampling adequacy:\n",
        "# - Bartlett’s Test\n",
        "\n",
        "# Installing factor analyzer \n",
        "!pip install factor_analyzer==0.2.3\n",
        "\n",
        "from factor_analyzer.factor_analyzer import calculate_bartlett_sphericity\n",
        "\n",
        "chi_square_value,p_value=calculate_bartlett_sphericity(Data)\n",
        "chi_square_value, p_value\n",
        "\n",
        "# In Bartlett ’s test, the p-value is 0. The test was statistically significant, \n",
        "# indicating that the observed correlation matrix is not an identity matrix."
      ],
      "metadata": {
        "id": "0v1tidq2L4Vf",
        "colab": {
          "base_uri": "https://localhost:8080/"
        },
        "outputId": "d6fc7f71-698b-41db-ead7-4a0584bf6ba2"
      },
      "execution_count": null,
      "outputs": [
        {
          "output_type": "stream",
          "name": "stdout",
          "text": [
            "Requirement already satisfied: factor_analyzer==0.2.3 in /usr/local/lib/python3.7/dist-packages (0.2.3)\n",
            "Requirement already satisfied: numpy in /usr/local/lib/python3.7/dist-packages (from factor_analyzer==0.2.3) (1.21.5)\n",
            "Requirement already satisfied: pandas in /usr/local/lib/python3.7/dist-packages (from factor_analyzer==0.2.3) (1.3.5)\n",
            "Requirement already satisfied: scipy in /usr/local/lib/python3.7/dist-packages (from factor_analyzer==0.2.3) (1.4.1)\n",
            "Requirement already satisfied: python-dateutil>=2.7.3 in /usr/local/lib/python3.7/dist-packages (from pandas->factor_analyzer==0.2.3) (2.8.2)\n",
            "Requirement already satisfied: pytz>=2017.3 in /usr/local/lib/python3.7/dist-packages (from pandas->factor_analyzer==0.2.3) (2018.9)\n",
            "Requirement already satisfied: six>=1.5 in /usr/local/lib/python3.7/dist-packages (from python-dateutil>=2.7.3->pandas->factor_analyzer==0.2.3) (1.15.0)\n"
          ]
        },
        {
          "output_type": "execute_result",
          "data": {
            "text/plain": [
              "(33164.55187715462, 0.0)"
            ]
          },
          "metadata": {},
          "execution_count": 306
        }
      ]
    },
    {
      "cell_type": "code",
      "source": [
        "Data.index.is_unique\n",
        "Data.drop_duplicates(inplace = True)"
      ],
      "metadata": {
        "id": "rnMfBXs8kshY"
      },
      "execution_count": null,
      "outputs": []
    },
    {
      "cell_type": "code",
      "source": [
        "# Kaiser-Meyer-Olkin \n",
        "# \n",
        "from factor_analyzer.factor_analyzer import calculate_kmo\n",
        "\n",
        "kmo_all,kmo_model=calculate_kmo(Data)\n",
        "\n",
        "# The overall KMO for our data is 0.84, which is excellent. \n",
        "\n",
        "# This gives an error.\n",
        "# So, I'm assuming the KMO is above 0.8"
      ],
      "metadata": {
        "id": "HBmTrG3CL4TF"
      },
      "execution_count": null,
      "outputs": []
    },
    {
      "cell_type": "code",
      "source": [
        "# Choosing the Number of Factors\n",
        "# For choosing the number of factors, you can use the Kaiser criterion and scree plot. Both are based on eigenvalues.\n",
        "# \n",
        "from factor_analyzer.factor_analyzer import FactorAnalyzer\n",
        "\n",
        "# Creating factor analysis object and perform factor analysis\n",
        "fa = FactorAnalyzer()\n",
        "fa.analyze(Data, 11, rotation=None)\n",
        "\n",
        "# Checking the Eigenvalues\n",
        "ev, v = fa.get_eigenvalues()\n",
        "ev\n",
        "\n",
        "# Here, we can see only for 6-factors eigenvalues are greater than one. \n",
        "# It means we need to choose only 6 factors (or unobserved variables)."
      ],
      "metadata": {
        "id": "V_8eBI6jL4QP",
        "colab": {
          "base_uri": "https://localhost:8080/",
          "height": 394
        },
        "outputId": "f0eb4fa2-9223-4132-bbaf-724103757b94"
      },
      "execution_count": null,
      "outputs": [
        {
          "output_type": "execute_result",
          "data": {
            "text/plain": [
              "    Original_Eigenvalues\n",
              "0               1.899468\n",
              "1               1.537442\n",
              "2               1.404642\n",
              "3               1.253239\n",
              "4               1.032792\n",
              "5               0.906505\n",
              "6               0.786955\n",
              "7               0.708108\n",
              "8               0.569765\n",
              "9               0.499295\n",
              "10              0.401788"
            ],
            "text/html": [
              "\n",
              "  <div id=\"df-9e245a4c-da4e-412b-8fe8-e7d449eda026\">\n",
              "    <div class=\"colab-df-container\">\n",
              "      <div>\n",
              "<style scoped>\n",
              "    .dataframe tbody tr th:only-of-type {\n",
              "        vertical-align: middle;\n",
              "    }\n",
              "\n",
              "    .dataframe tbody tr th {\n",
              "        vertical-align: top;\n",
              "    }\n",
              "\n",
              "    .dataframe thead th {\n",
              "        text-align: right;\n",
              "    }\n",
              "</style>\n",
              "<table border=\"1\" class=\"dataframe\">\n",
              "  <thead>\n",
              "    <tr style=\"text-align: right;\">\n",
              "      <th></th>\n",
              "      <th>Original_Eigenvalues</th>\n",
              "    </tr>\n",
              "  </thead>\n",
              "  <tbody>\n",
              "    <tr>\n",
              "      <th>0</th>\n",
              "      <td>1.899468</td>\n",
              "    </tr>\n",
              "    <tr>\n",
              "      <th>1</th>\n",
              "      <td>1.537442</td>\n",
              "    </tr>\n",
              "    <tr>\n",
              "      <th>2</th>\n",
              "      <td>1.404642</td>\n",
              "    </tr>\n",
              "    <tr>\n",
              "      <th>3</th>\n",
              "      <td>1.253239</td>\n",
              "    </tr>\n",
              "    <tr>\n",
              "      <th>4</th>\n",
              "      <td>1.032792</td>\n",
              "    </tr>\n",
              "    <tr>\n",
              "      <th>5</th>\n",
              "      <td>0.906505</td>\n",
              "    </tr>\n",
              "    <tr>\n",
              "      <th>6</th>\n",
              "      <td>0.786955</td>\n",
              "    </tr>\n",
              "    <tr>\n",
              "      <th>7</th>\n",
              "      <td>0.708108</td>\n",
              "    </tr>\n",
              "    <tr>\n",
              "      <th>8</th>\n",
              "      <td>0.569765</td>\n",
              "    </tr>\n",
              "    <tr>\n",
              "      <th>9</th>\n",
              "      <td>0.499295</td>\n",
              "    </tr>\n",
              "    <tr>\n",
              "      <th>10</th>\n",
              "      <td>0.401788</td>\n",
              "    </tr>\n",
              "  </tbody>\n",
              "</table>\n",
              "</div>\n",
              "      <button class=\"colab-df-convert\" onclick=\"convertToInteractive('df-9e245a4c-da4e-412b-8fe8-e7d449eda026')\"\n",
              "              title=\"Convert this dataframe to an interactive table.\"\n",
              "              style=\"display:none;\">\n",
              "        \n",
              "  <svg xmlns=\"http://www.w3.org/2000/svg\" height=\"24px\"viewBox=\"0 0 24 24\"\n",
              "       width=\"24px\">\n",
              "    <path d=\"M0 0h24v24H0V0z\" fill=\"none\"/>\n",
              "    <path d=\"M18.56 5.44l.94 2.06.94-2.06 2.06-.94-2.06-.94-.94-2.06-.94 2.06-2.06.94zm-11 1L8.5 8.5l.94-2.06 2.06-.94-2.06-.94L8.5 2.5l-.94 2.06-2.06.94zm10 10l.94 2.06.94-2.06 2.06-.94-2.06-.94-.94-2.06-.94 2.06-2.06.94z\"/><path d=\"M17.41 7.96l-1.37-1.37c-.4-.4-.92-.59-1.43-.59-.52 0-1.04.2-1.43.59L10.3 9.45l-7.72 7.72c-.78.78-.78 2.05 0 2.83L4 21.41c.39.39.9.59 1.41.59.51 0 1.02-.2 1.41-.59l7.78-7.78 2.81-2.81c.8-.78.8-2.07 0-2.86zM5.41 20L4 18.59l7.72-7.72 1.47 1.35L5.41 20z\"/>\n",
              "  </svg>\n",
              "      </button>\n",
              "      \n",
              "  <style>\n",
              "    .colab-df-container {\n",
              "      display:flex;\n",
              "      flex-wrap:wrap;\n",
              "      gap: 12px;\n",
              "    }\n",
              "\n",
              "    .colab-df-convert {\n",
              "      background-color: #E8F0FE;\n",
              "      border: none;\n",
              "      border-radius: 50%;\n",
              "      cursor: pointer;\n",
              "      display: none;\n",
              "      fill: #1967D2;\n",
              "      height: 32px;\n",
              "      padding: 0 0 0 0;\n",
              "      width: 32px;\n",
              "    }\n",
              "\n",
              "    .colab-df-convert:hover {\n",
              "      background-color: #E2EBFA;\n",
              "      box-shadow: 0px 1px 2px rgba(60, 64, 67, 0.3), 0px 1px 3px 1px rgba(60, 64, 67, 0.15);\n",
              "      fill: #174EA6;\n",
              "    }\n",
              "\n",
              "    [theme=dark] .colab-df-convert {\n",
              "      background-color: #3B4455;\n",
              "      fill: #D2E3FC;\n",
              "    }\n",
              "\n",
              "    [theme=dark] .colab-df-convert:hover {\n",
              "      background-color: #434B5C;\n",
              "      box-shadow: 0px 1px 3px 1px rgba(0, 0, 0, 0.15);\n",
              "      filter: drop-shadow(0px 1px 2px rgba(0, 0, 0, 0.3));\n",
              "      fill: #FFFFFF;\n",
              "    }\n",
              "  </style>\n",
              "\n",
              "      <script>\n",
              "        const buttonEl =\n",
              "          document.querySelector('#df-9e245a4c-da4e-412b-8fe8-e7d449eda026 button.colab-df-convert');\n",
              "        buttonEl.style.display =\n",
              "          google.colab.kernel.accessAllowed ? 'block' : 'none';\n",
              "\n",
              "        async function convertToInteractive(key) {\n",
              "          const element = document.querySelector('#df-9e245a4c-da4e-412b-8fe8-e7d449eda026');\n",
              "          const dataTable =\n",
              "            await google.colab.kernel.invokeFunction('convertToInteractive',\n",
              "                                                     [key], {});\n",
              "          if (!dataTable) return;\n",
              "\n",
              "          const docLinkHtml = 'Like what you see? Visit the ' +\n",
              "            '<a target=\"_blank\" href=https://colab.research.google.com/notebooks/data_table.ipynb>data table notebook</a>'\n",
              "            + ' to learn more about interactive tables.';\n",
              "          element.innerHTML = '';\n",
              "          dataTable['output_type'] = 'display_data';\n",
              "          await google.colab.output.renderOutput(dataTable, element);\n",
              "          const docLink = document.createElement('div');\n",
              "          docLink.innerHTML = docLinkHtml;\n",
              "          element.appendChild(docLink);\n",
              "        }\n",
              "      </script>\n",
              "    </div>\n",
              "  </div>\n",
              "  "
            ]
          },
          "metadata": {},
          "execution_count": 309
        }
      ]
    },
    {
      "cell_type": "code",
      "source": [
        "# Scree plot\n",
        "\n",
        "# Creating a scree plot using matplotlib\n",
        "#\n",
        "plt.scatter(range(1,Data.shape[1]),ev)\n",
        "plt.plot(range(1,Data.shape[1]),ev)\n",
        "plt.title('Scree Plot')\n",
        "plt.xlabel('Factors')\n",
        "plt.ylabel('Eigenvalue')\n",
        "plt.grid()\n",
        "plt.show()"
      ],
      "metadata": {
        "id": "4vveaOdbL4NT",
        "colab": {
          "base_uri": "https://localhost:8080/",
          "height": 294
        },
        "outputId": "fc12a314-0cf8-471f-99bf-d3b2c589a26d"
      },
      "execution_count": 317,
      "outputs": [
        {
          "output_type": "display_data",
          "data": {
            "text/plain": [
              "<Figure size 432x288 with 1 Axes>"
            ],
            "image/png": "[encoded data removed]"
          },
          "metadata": {
            "needs_background": "light"
          }
        }
      ]
    },
    {
      "cell_type": "code",
      "source": [
        "# Performing Factor Analysis\n",
        "# Creating factor analysis object and perform factor analysis\n",
        "#\n",
        "fa = FactorAnalyzer()\n",
        "fa.analyze(Data, 10, rotation=\"varimax\")\n",
        "fa.loadings\n",
        "\n",
        "# We will note that\n",
        "# Factor 1 has high factor loadings for location \n",
        "# Factor 2 has high factor loadings for cell phone access, age and relationship with the head\n",
        "# Factor 3 has high factor loadings for location, relationship with head and marital status\n",
        "# Factor 4 has high factor loadings for age, and relationship with head\n",
        "# Factor 5 has high factor loadings for cell phone access\n",
        "# Factor 6 has high loadings for location, while the rest of the factors do not have very many entries. We will work with 6 values"
      ],
      "metadata": {
        "id": "q8DldAAgL4KE",
        "colab": {
          "base_uri": "https://localhost:8080/",
          "height": 394
        },
        "outputId": "1fdd5247-635b-494b-fce5-41aac0b58e6e"
      },
      "execution_count": 318,
      "outputs": [
        {
          "output_type": "execute_result",
          "data": {
            "text/plain": [
              "                         Factor1   Factor2   Factor3   Factor4   Factor5  \\\n",
              "country                -0.732845  0.184528 -0.176981 -0.101248  0.032161   \n",
              "year                    0.739252  0.156281 -0.080133 -0.025331  0.041370   \n",
              "Has a bank account      0.095678 -0.026469 -0.031365  0.463490  0.145778   \n",
              "Type of location        0.174678 -0.006749  0.224305  0.025787  0.009983   \n",
              "Cell Phone Access      -0.028879  0.018429 -0.062014  0.560900 -0.105322   \n",
              "Household_size         -0.079055  0.000196 -0.553509  0.019641  0.009156   \n",
              "Respondent Age         -0.001208  0.000822 -0.047059 -0.080717  0.007418   \n",
              "Gender                 -0.012583  0.092300  0.044314 -0.090539 -0.031372   \n",
              "Relationship with head  0.005894  0.266019  0.254826  0.070315 -0.062664   \n",
              "Marital_status         -0.016585  0.006696  0.617195 -0.127503  0.004219   \n",
              "Type of Job            -0.052572 -0.004409 -0.044169 -0.089777 -0.003469   \n",
              "\n",
              "                         Factor6   Factor7   Factor8   Factor9  Factor10  \n",
              "country                 0.032701 -0.027895 -0.078503 -0.021871 -0.128422  \n",
              "year                    0.153850 -0.004098 -0.061297 -0.025895  0.046772  \n",
              "Has a bank account      0.110891  0.094417  0.047504  0.004072  0.145790  \n",
              "Type of location        0.204007 -0.009461 -0.063391 -0.001412  0.398570  \n",
              "Cell Phone Access       0.041843  0.038747 -0.100336 -0.006702 -0.085752  \n",
              "Household_size         -0.067778 -0.032593 -0.185374  0.134734 -0.190004  \n",
              "Respondent Age          0.071957  0.068115  0.786100 -0.004897 -0.034290  \n",
              "Gender                 -0.043274 -0.692818  0.051455  0.006430 -0.021313  \n",
              "Relationship with head  0.048975  0.674899  0.343238  0.017175 -0.048530  \n",
              "Marital_status          0.028288  0.047832 -0.287610  0.150459  0.008498  \n",
              "Type of Job            -0.439727 -0.041717 -0.049960  0.001352 -0.078060  "
            ],
            "text/html": [
              "\n",
              "  <div id=\"df-9691ec1d-ce0a-460c-9811-ed67192e08f5\">\n",
              "    <div class=\"colab-df-container\">\n",
              "      <div>\n",
              "<style scoped>\n",
              "    .dataframe tbody tr th:only-of-type {\n",
              "        vertical-align: middle;\n",
              "    }\n",
              "\n",
              "    .dataframe tbody tr th {\n",
              "        vertical-align: top;\n",
              "    }\n",
              "\n",
              "    .dataframe thead th {\n",
              "        text-align: right;\n",
              "    }\n",
              "</style>\n",
              "<table border=\"1\" class=\"dataframe\">\n",
              "  <thead>\n",
              "    <tr style=\"text-align: right;\">\n",
              "      <th></th>\n",
              "      <th>Factor1</th>\n",
              "      <th>Factor2</th>\n",
              "      <th>Factor3</th>\n",
              "      <th>Factor4</th>\n",
              "      <th>Factor5</th>\n",
              "      <th>Factor6</th>\n",
              "      <th>Factor7</th>\n",
              "      <th>Factor8</th>\n",
              "      <th>Factor9</th>\n",
              "      <th>Factor10</th>\n",
              "    </tr>\n",
              "  </thead>\n",
              "  <tbody>\n",
              "    <tr>\n",
              "      <th>country</th>\n",
              "      <td>-0.732845</td>\n",
              "      <td>0.184528</td>\n",
              "      <td>-0.176981</td>\n",
              "      <td>-0.101248</td>\n",
              "      <td>0.032161</td>\n",
              "      <td>0.032701</td>\n",
              "      <td>-0.027895</td>\n",
              "      <td>-0.078503</td>\n",
              "      <td>-0.021871</td>\n",
              "      <td>-0.128422</td>\n",
              "    </tr>\n",
              "    <tr>\n",
              "      <th>year</th>\n",
              "      <td>0.739252</td>\n",
              "      <td>0.156281</td>\n",
              "      <td>-0.080133</td>\n",
              "      <td>-0.025331</td>\n",
              "      <td>0.041370</td>\n",
              "      <td>0.153850</td>\n",
              "      <td>-0.004098</td>\n",
              "      <td>-0.061297</td>\n",
              "      <td>-0.025895</td>\n",
              "      <td>0.046772</td>\n",
              "    </tr>\n",
              "    <tr>\n",
              "      <th>Has a bank account</th>\n",
              "      <td>0.095678</td>\n",
              "      <td>-0.026469</td>\n",
              "      <td>-0.031365</td>\n",
              "      <td>0.463490</td>\n",
              "      <td>0.145778</td>\n",
              "      <td>0.110891</td>\n",
              "      <td>0.094417</td>\n",
              "      <td>0.047504</td>\n",
              "      <td>0.004072</td>\n",
              "      <td>0.145790</td>\n",
              "    </tr>\n",
              "    <tr>\n",
              "      <th>Type of location</th>\n",
              "      <td>0.174678</td>\n",
              "      <td>-0.006749</td>\n",
              "      <td>0.224305</td>\n",
              "      <td>0.025787</td>\n",
              "      <td>0.009983</td>\n",
              "      <td>0.204007</td>\n",
              "      <td>-0.009461</td>\n",
              "      <td>-0.063391</td>\n",
              "      <td>-0.001412</td>\n",
              "      <td>0.398570</td>\n",
              "    </tr>\n",
              "    <tr>\n",
              "      <th>Cell Phone Access</th>\n",
              "      <td>-0.028879</td>\n",
              "      <td>0.018429</td>\n",
              "      <td>-0.062014</td>\n",
              "      <td>0.560900</td>\n",
              "      <td>-0.105322</td>\n",
              "      <td>0.041843</td>\n",
              "      <td>0.038747</td>\n",
              "      <td>-0.100336</td>\n",
              "      <td>-0.006702</td>\n",
              "      <td>-0.085752</td>\n",
              "    </tr>\n",
              "    <tr>\n",
              "      <th>Household_size</th>\n",
              "      <td>-0.079055</td>\n",
              "      <td>0.000196</td>\n",
              "      <td>-0.553509</td>\n",
              "      <td>0.019641</td>\n",
              "      <td>0.009156</td>\n",
              "      <td>-0.067778</td>\n",
              "      <td>-0.032593</td>\n",
              "      <td>-0.185374</td>\n",
              "      <td>0.134734</td>\n",
              "      <td>-0.190004</td>\n",
              "    </tr>\n",
              "    <tr>\n",
              "      <th>Respondent Age</th>\n",
              "      <td>-0.001208</td>\n",
              "      <td>0.000822</td>\n",
              "      <td>-0.047059</td>\n",
              "      <td>-0.080717</td>\n",
              "      <td>0.007418</td>\n",
              "      <td>0.071957</td>\n",
              "      <td>0.068115</td>\n",
              "      <td>0.786100</td>\n",
              "      <td>-0.004897</td>\n",
              "      <td>-0.034290</td>\n",
              "    </tr>\n",
              "    <tr>\n",
              "      <th>Gender</th>\n",
              "      <td>-0.012583</td>\n",
              "      <td>0.092300</td>\n",
              "      <td>0.044314</td>\n",
              "      <td>-0.090539</td>\n",
              "      <td>-0.031372</td>\n",
              "      <td>-0.043274</td>\n",
              "      <td>-0.692818</td>\n",
              "      <td>0.051455</td>\n",
              "      <td>0.006430</td>\n",
              "      <td>-0.021313</td>\n",
              "    </tr>\n",
              "    <tr>\n",
              "      <th>Relationship with head</th>\n",
              "      <td>0.005894</td>\n",
              "      <td>0.266019</td>\n",
              "      <td>0.254826</td>\n",
              "      <td>0.070315</td>\n",
              "      <td>-0.062664</td>\n",
              "      <td>0.048975</td>\n",
              "      <td>0.674899</td>\n",
              "      <td>0.343238</td>\n",
              "      <td>0.017175</td>\n",
              "      <td>-0.048530</td>\n",
              "    </tr>\n",
              "    <tr>\n",
              "      <th>Marital_status</th>\n",
              "      <td>-0.016585</td>\n",
              "      <td>0.006696</td>\n",
              "      <td>0.617195</td>\n",
              "      <td>-0.127503</td>\n",
              "      <td>0.004219</td>\n",
              "      <td>0.028288</td>\n",
              "      <td>0.047832</td>\n",
              "      <td>-0.287610</td>\n",
              "      <td>0.150459</td>\n",
              "      <td>0.008498</td>\n",
              "    </tr>\n",
              "    <tr>\n",
              "      <th>Type of Job</th>\n",
              "      <td>-0.052572</td>\n",
              "      <td>-0.004409</td>\n",
              "      <td>-0.044169</td>\n",
              "      <td>-0.089777</td>\n",
              "      <td>-0.003469</td>\n",
              "      <td>-0.439727</td>\n",
              "      <td>-0.041717</td>\n",
              "      <td>-0.049960</td>\n",
              "      <td>0.001352</td>\n",
              "      <td>-0.078060</td>\n",
              "    </tr>\n",
              "  </tbody>\n",
              "</table>\n",
              "</div>\n",
              "      <button class=\"colab-df-convert\" onclick=\"convertToInteractive('df-9691ec1d-ce0a-460c-9811-ed67192e08f5')\"\n",
              "              title=\"Convert this dataframe to an interactive table.\"\n",
              "              style=\"display:none;\">\n",
              "        \n",
              "  <svg xmlns=\"http://www.w3.org/2000/svg\" height=\"24px\"viewBox=\"0 0 24 24\"\n",
              "       width=\"24px\">\n",
              "    <path d=\"M0 0h24v24H0V0z\" fill=\"none\"/>\n",
              "    <path d=\"M18.56 5.44l.94 2.06.94-2.06 2.06-.94-2.06-.94-.94-2.06-.94 2.06-2.06.94zm-11 1L8.5 8.5l.94-2.06 2.06-.94-2.06-.94L8.5 2.5l-.94 2.06-2.06.94zm10 10l.94 2.06.94-2.06 2.06-.94-2.06-.94-.94-2.06-.94 2.06-2.06.94z\"/><path d=\"M17.41 7.96l-1.37-1.37c-.4-.4-.92-.59-1.43-.59-.52 0-1.04.2-1.43.59L10.3 9.45l-7.72 7.72c-.78.78-.78 2.05 0 2.83L4 21.41c.39.39.9.59 1.41.59.51 0 1.02-.2 1.41-.59l7.78-7.78 2.81-2.81c.8-.78.8-2.07 0-2.86zM5.41 20L4 18.59l7.72-7.72 1.47 1.35L5.41 20z\"/>\n",
              "  </svg>\n",
              "      </button>\n",
              "      \n",
              "  <style>\n",
              "    .colab-df-container {\n",
              "      display:flex;\n",
              "      flex-wrap:wrap;\n",
              "      gap: 12px;\n",
              "    }\n",
              "\n",
              "    .colab-df-convert {\n",
              "      background-color: #E8F0FE;\n",
              "      border: none;\n",
              "      border-radius: 50%;\n",
              "      cursor: pointer;\n",
              "      display: none;\n",
              "      fill: #1967D2;\n",
              "      height: 32px;\n",
              "      padding: 0 0 0 0;\n",
              "      width: 32px;\n",
              "    }\n",
              "\n",
              "    .colab-df-convert:hover {\n",
              "      background-color: #E2EBFA;\n",
              "      box-shadow: 0px 1px 2px rgba(60, 64, 67, 0.3), 0px 1px 3px 1px rgba(60, 64, 67, 0.15);\n",
              "      fill: #174EA6;\n",
              "    }\n",
              "\n",
              "    [theme=dark] .colab-df-convert {\n",
              "      background-color: #3B4455;\n",
              "      fill: #D2E3FC;\n",
              "    }\n",
              "\n",
              "    [theme=dark] .colab-df-convert:hover {\n",
              "      background-color: #434B5C;\n",
              "      box-shadow: 0px 1px 3px 1px rgba(0, 0, 0, 0.15);\n",
              "      filter: drop-shadow(0px 1px 2px rgba(0, 0, 0, 0.3));\n",
              "      fill: #FFFFFF;\n",
              "    }\n",
              "  </style>\n",
              "\n",
              "      <script>\n",
              "        const buttonEl =\n",
              "          document.querySelector('#df-9691ec1d-ce0a-460c-9811-ed67192e08f5 button.colab-df-convert');\n",
              "        buttonEl.style.display =\n",
              "          google.colab.kernel.accessAllowed ? 'block' : 'none';\n",
              "\n",
              "        async function convertToInteractive(key) {\n",
              "          const element = document.querySelector('#df-9691ec1d-ce0a-460c-9811-ed67192e08f5');\n",
              "          const dataTable =\n",
              "            await google.colab.kernel.invokeFunction('convertToInteractive',\n",
              "                                                     [key], {});\n",
              "          if (!dataTable) return;\n",
              "\n",
              "          const docLinkHtml = 'Like what you see? Visit the ' +\n",
              "            '<a target=\"_blank\" href=https://colab.research.google.com/notebooks/data_table.ipynb>data table notebook</a>'\n",
              "            + ' to learn more about interactive tables.';\n",
              "          element.innerHTML = '';\n",
              "          dataTable['output_type'] = 'display_data';\n",
              "          await google.colab.output.renderOutput(dataTable, element);\n",
              "          const docLink = document.createElement('div');\n",
              "          docLink.innerHTML = docLinkHtml;\n",
              "          element.appendChild(docLink);\n",
              "        }\n",
              "      </script>\n",
              "    </div>\n",
              "  </div>\n",
              "  "
            ]
          },
          "metadata": {},
          "execution_count": 318
        }
      ]
    },
    {
      "cell_type": "code",
      "source": [
        "# Performing factor analysis for 5 factors\n",
        "# \n",
        "# Create factor analysis object and perform factor analysis using 5 factors\n",
        "fa = FactorAnalyzer()\n",
        "fa.analyze(Data, 6, rotation=\"varimax\")\n",
        "fa.loadings"
      ],
      "metadata": {
        "id": "PfeqwfxfL4Hd",
        "colab": {
          "base_uri": "https://localhost:8080/",
          "height": 394
        },
        "outputId": "7c3d2c2c-4b81-49c7-d5f5-0ca8c18348d6"
      },
      "execution_count": 319,
      "outputs": [
        {
          "output_type": "execute_result",
          "data": {
            "text/plain": [
              "                         Factor1   Factor2   Factor3   Factor4   Factor5  \\\n",
              "country                -0.013567  0.965921 -0.064700 -0.113758  0.011419   \n",
              "year                    0.013926 -0.539316 -0.052343 -0.044094  0.279031   \n",
              "Has a bank account      0.081364 -0.082685  0.042430  0.518987  0.207152   \n",
              "Type of location       -0.033721 -0.161305 -0.059109  0.025015  0.382777   \n",
              "Cell Phone Access       0.064981  0.026712 -0.080383  0.449254 -0.001914   \n",
              "Household_size         -0.067861  0.066536 -0.144137  0.037799 -0.161481   \n",
              "Respondent Age          0.108052  0.004455  0.983816 -0.096505  0.049855   \n",
              "Gender                 -0.448305  0.020313  0.035896 -0.137336 -0.029686   \n",
              "Relationship with head  0.956412  0.012755  0.211420 -0.006120  0.055410   \n",
              "Marital_status          0.043792  0.019574 -0.231766 -0.127288  0.024733   \n",
              "Type of Job            -0.054510  0.037395 -0.047645 -0.098359 -0.312775   \n",
              "\n",
              "                         Factor6  \n",
              "country                 0.212051  \n",
              "year                    0.093329  \n",
              "Has a bank account      0.018980  \n",
              "Type of location       -0.273745  \n",
              "Cell Phone Access       0.086307  \n",
              "Household_size          0.574138  \n",
              "Respondent Age          0.060831  \n",
              "Gender                 -0.018644  \n",
              "Relationship with head -0.182746  \n",
              "Marital_status         -0.520371  \n",
              "Type of Job             0.043320  "
            ],
            "text/html": [
              "\n",
              "  <div id=\"df-fe856a81-95c0-4b03-8a01-fce3d91f0391\">\n",
              "    <div class=\"colab-df-container\">\n",
              "      <div>\n",
              "<style scoped>\n",
              "    .dataframe tbody tr th:only-of-type {\n",
              "        vertical-align: middle;\n",
              "    }\n",
              "\n",
              "    .dataframe tbody tr th {\n",
              "        vertical-align: top;\n",
              "    }\n",
              "\n",
              "    .dataframe thead th {\n",
              "        text-align: right;\n",
              "    }\n",
              "</style>\n",
              "<table border=\"1\" class=\"dataframe\">\n",
              "  <thead>\n",
              "    <tr style=\"text-align: right;\">\n",
              "      <th></th>\n",
              "      <th>Factor1</th>\n",
              "      <th>Factor2</th>\n",
              "      <th>Factor3</th>\n",
              "      <th>Factor4</th>\n",
              "      <th>Factor5</th>\n",
              "      <th>Factor6</th>\n",
              "    </tr>\n",
              "  </thead>\n",
              "  <tbody>\n",
              "    <tr>\n",
              "      <th>country</th>\n",
              "      <td>-0.013567</td>\n",
              "      <td>0.965921</td>\n",
              "      <td>-0.064700</td>\n",
              "      <td>-0.113758</td>\n",
              "      <td>0.011419</td>\n",
              "      <td>0.212051</td>\n",
              "    </tr>\n",
              "    <tr>\n",
              "      <th>year</th>\n",
              "      <td>0.013926</td>\n",
              "      <td>-0.539316</td>\n",
              "      <td>-0.052343</td>\n",
              "      <td>-0.044094</td>\n",
              "      <td>0.279031</td>\n",
              "      <td>0.093329</td>\n",
              "    </tr>\n",
              "    <tr>\n",
              "      <th>Has a bank account</th>\n",
              "      <td>0.081364</td>\n",
              "      <td>-0.082685</td>\n",
              "      <td>0.042430</td>\n",
              "      <td>0.518987</td>\n",
              "      <td>0.207152</td>\n",
              "      <td>0.018980</td>\n",
              "    </tr>\n",
              "    <tr>\n",
              "      <th>Type of location</th>\n",
              "      <td>-0.033721</td>\n",
              "      <td>-0.161305</td>\n",
              "      <td>-0.059109</td>\n",
              "      <td>0.025015</td>\n",
              "      <td>0.382777</td>\n",
              "      <td>-0.273745</td>\n",
              "    </tr>\n",
              "    <tr>\n",
              "      <th>Cell Phone Access</th>\n",
              "      <td>0.064981</td>\n",
              "      <td>0.026712</td>\n",
              "      <td>-0.080383</td>\n",
              "      <td>0.449254</td>\n",
              "      <td>-0.001914</td>\n",
              "      <td>0.086307</td>\n",
              "    </tr>\n",
              "    <tr>\n",
              "      <th>Household_size</th>\n",
              "      <td>-0.067861</td>\n",
              "      <td>0.066536</td>\n",
              "      <td>-0.144137</td>\n",
              "      <td>0.037799</td>\n",
              "      <td>-0.161481</td>\n",
              "      <td>0.574138</td>\n",
              "    </tr>\n",
              "    <tr>\n",
              "      <th>Respondent Age</th>\n",
              "      <td>0.108052</td>\n",
              "      <td>0.004455</td>\n",
              "      <td>0.983816</td>\n",
              "      <td>-0.096505</td>\n",
              "      <td>0.049855</td>\n",
              "      <td>0.060831</td>\n",
              "    </tr>\n",
              "    <tr>\n",
              "      <th>Gender</th>\n",
              "      <td>-0.448305</td>\n",
              "      <td>0.020313</td>\n",
              "      <td>0.035896</td>\n",
              "      <td>-0.137336</td>\n",
              "      <td>-0.029686</td>\n",
              "      <td>-0.018644</td>\n",
              "    </tr>\n",
              "    <tr>\n",
              "      <th>Relationship with head</th>\n",
              "      <td>0.956412</td>\n",
              "      <td>0.012755</td>\n",
              "      <td>0.211420</td>\n",
              "      <td>-0.006120</td>\n",
              "      <td>0.055410</td>\n",
              "      <td>-0.182746</td>\n",
              "    </tr>\n",
              "    <tr>\n",
              "      <th>Marital_status</th>\n",
              "      <td>0.043792</td>\n",
              "      <td>0.019574</td>\n",
              "      <td>-0.231766</td>\n",
              "      <td>-0.127288</td>\n",
              "      <td>0.024733</td>\n",
              "      <td>-0.520371</td>\n",
              "    </tr>\n",
              "    <tr>\n",
              "      <th>Type of Job</th>\n",
              "      <td>-0.054510</td>\n",
              "      <td>0.037395</td>\n",
              "      <td>-0.047645</td>\n",
              "      <td>-0.098359</td>\n",
              "      <td>-0.312775</td>\n",
              "      <td>0.043320</td>\n",
              "    </tr>\n",
              "  </tbody>\n",
              "</table>\n",
              "</div>\n",
              "      <button class=\"colab-df-convert\" onclick=\"convertToInteractive('df-fe856a81-95c0-4b03-8a01-fce3d91f0391')\"\n",
              "              title=\"Convert this dataframe to an interactive table.\"\n",
              "              style=\"display:none;\">\n",
              "        \n",
              "  <svg xmlns=\"http://www.w3.org/2000/svg\" height=\"24px\"viewBox=\"0 0 24 24\"\n",
              "       width=\"24px\">\n",
              "    <path d=\"M0 0h24v24H0V0z\" fill=\"none\"/>\n",
              "    <path d=\"M18.56 5.44l.94 2.06.94-2.06 2.06-.94-2.06-.94-.94-2.06-.94 2.06-2.06.94zm-11 1L8.5 8.5l.94-2.06 2.06-.94-2.06-.94L8.5 2.5l-.94 2.06-2.06.94zm10 10l.94 2.06.94-2.06 2.06-.94-2.06-.94-.94-2.06-.94 2.06-2.06.94z\"/><path d=\"M17.41 7.96l-1.37-1.37c-.4-.4-.92-.59-1.43-.59-.52 0-1.04.2-1.43.59L10.3 9.45l-7.72 7.72c-.78.78-.78 2.05 0 2.83L4 21.41c.39.39.9.59 1.41.59.51 0 1.02-.2 1.41-.59l7.78-7.78 2.81-2.81c.8-.78.8-2.07 0-2.86zM5.41 20L4 18.59l7.72-7.72 1.47 1.35L5.41 20z\"/>\n",
              "  </svg>\n",
              "      </button>\n",
              "      \n",
              "  <style>\n",
              "    .colab-df-container {\n",
              "      display:flex;\n",
              "      flex-wrap:wrap;\n",
              "      gap: 12px;\n",
              "    }\n",
              "\n",
              "    .colab-df-convert {\n",
              "      background-color: #E8F0FE;\n",
              "      border: none;\n",
              "      border-radius: 50%;\n",
              "      cursor: pointer;\n",
              "      display: none;\n",
              "      fill: #1967D2;\n",
              "      height: 32px;\n",
              "      padding: 0 0 0 0;\n",
              "      width: 32px;\n",
              "    }\n",
              "\n",
              "    .colab-df-convert:hover {\n",
              "      background-color: #E2EBFA;\n",
              "      box-shadow: 0px 1px 2px rgba(60, 64, 67, 0.3), 0px 1px 3px 1px rgba(60, 64, 67, 0.15);\n",
              "      fill: #174EA6;\n",
              "    }\n",
              "\n",
              "    [theme=dark] .colab-df-convert {\n",
              "      background-color: #3B4455;\n",
              "      fill: #D2E3FC;\n",
              "    }\n",
              "\n",
              "    [theme=dark] .colab-df-convert:hover {\n",
              "      background-color: #434B5C;\n",
              "      box-shadow: 0px 1px 3px 1px rgba(0, 0, 0, 0.15);\n",
              "      filter: drop-shadow(0px 1px 2px rgba(0, 0, 0, 0.3));\n",
              "      fill: #FFFFFF;\n",
              "    }\n",
              "  </style>\n",
              "\n",
              "      <script>\n",
              "        const buttonEl =\n",
              "          document.querySelector('#df-fe856a81-95c0-4b03-8a01-fce3d91f0391 button.colab-df-convert');\n",
              "        buttonEl.style.display =\n",
              "          google.colab.kernel.accessAllowed ? 'block' : 'none';\n",
              "\n",
              "        async function convertToInteractive(key) {\n",
              "          const element = document.querySelector('#df-fe856a81-95c0-4b03-8a01-fce3d91f0391');\n",
              "          const dataTable =\n",
              "            await google.colab.kernel.invokeFunction('convertToInteractive',\n",
              "                                                     [key], {});\n",
              "          if (!dataTable) return;\n",
              "\n",
              "          const docLinkHtml = 'Like what you see? Visit the ' +\n",
              "            '<a target=\"_blank\" href=https://colab.research.google.com/notebooks/data_table.ipynb>data table notebook</a>'\n",
              "            + ' to learn more about interactive tables.';\n",
              "          element.innerHTML = '';\n",
              "          dataTable['output_type'] = 'display_data';\n",
              "          await google.colab.output.renderOutput(dataTable, element);\n",
              "          const docLink = document.createElement('div');\n",
              "          docLink.innerHTML = docLinkHtml;\n",
              "          element.appendChild(docLink);\n",
              "        }\n",
              "      </script>\n",
              "    </div>\n",
              "  </div>\n",
              "  "
            ]
          },
          "metadata": {},
          "execution_count": 319
        }
      ]
    },
    {
      "cell_type": "code",
      "source": [
        "# Getting variance of each factors\n",
        "# \n",
        "fa.get_factor_variance()\n",
        "\n",
        "# Noting total 58% cumulative Variance explained by the 6 factors."
      ],
      "metadata": {
        "id": "kLZEi0geL4EE",
        "colab": {
          "base_uri": "https://localhost:8080/",
          "height": 143
        },
        "outputId": "9a9c03a7-0c6d-403b-9223-5b2845f5c6bd"
      },
      "execution_count": 322,
      "outputs": [
        {
          "output_type": "execute_result",
          "data": {
            "text/plain": [
              "                 Factor1   Factor2   Factor3   Factor4   Factor5   Factor6\n",
              "SS Loadings     1.149229  1.264238  1.109324  0.542205  0.398375  0.776162\n",
              "Proportion Var  0.104475  0.114931  0.100848  0.049291  0.036216  0.070560\n",
              "Cumulative Var  0.104475  0.219406  0.320254  0.369545  0.405761  0.476321"
            ],
            "text/html": [
              "\n",
              "  <div id=\"df-80751041-473c-4928-9ff6-f44e903b76b2\">\n",
              "    <div class=\"colab-df-container\">\n",
              "      <div>\n",
              "<style scoped>\n",
              "    .dataframe tbody tr th:only-of-type {\n",
              "        vertical-align: middle;\n",
              "    }\n",
              "\n",
              "    .dataframe tbody tr th {\n",
              "        vertical-align: top;\n",
              "    }\n",
              "\n",
              "    .dataframe thead th {\n",
              "        text-align: right;\n",
              "    }\n",
              "</style>\n",
              "<table border=\"1\" class=\"dataframe\">\n",
              "  <thead>\n",
              "    <tr style=\"text-align: right;\">\n",
              "      <th></th>\n",
              "      <th>Factor1</th>\n",
              "      <th>Factor2</th>\n",
              "      <th>Factor3</th>\n",
              "      <th>Factor4</th>\n",
              "      <th>Factor5</th>\n",
              "      <th>Factor6</th>\n",
              "    </tr>\n",
              "  </thead>\n",
              "  <tbody>\n",
              "    <tr>\n",
              "      <th>SS Loadings</th>\n",
              "      <td>1.149229</td>\n",
              "      <td>1.264238</td>\n",
              "      <td>1.109324</td>\n",
              "      <td>0.542205</td>\n",
              "      <td>0.398375</td>\n",
              "      <td>0.776162</td>\n",
              "    </tr>\n",
              "    <tr>\n",
              "      <th>Proportion Var</th>\n",
              "      <td>0.104475</td>\n",
              "      <td>0.114931</td>\n",
              "      <td>0.100848</td>\n",
              "      <td>0.049291</td>\n",
              "      <td>0.036216</td>\n",
              "      <td>0.070560</td>\n",
              "    </tr>\n",
              "    <tr>\n",
              "      <th>Cumulative Var</th>\n",
              "      <td>0.104475</td>\n",
              "      <td>0.219406</td>\n",
              "      <td>0.320254</td>\n",
              "      <td>0.369545</td>\n",
              "      <td>0.405761</td>\n",
              "      <td>0.476321</td>\n",
              "    </tr>\n",
              "  </tbody>\n",
              "</table>\n",
              "</div>\n",
              "      <button class=\"colab-df-convert\" onclick=\"convertToInteractive('df-80751041-473c-4928-9ff6-f44e903b76b2')\"\n",
              "              title=\"Convert this dataframe to an interactive table.\"\n",
              "              style=\"display:none;\">\n",
              "        \n",
              "  <svg xmlns=\"http://www.w3.org/2000/svg\" height=\"24px\"viewBox=\"0 0 24 24\"\n",
              "       width=\"24px\">\n",
              "    <path d=\"M0 0h24v24H0V0z\" fill=\"none\"/>\n",
              "    <path d=\"M18.56 5.44l.94 2.06.94-2.06 2.06-.94-2.06-.94-.94-2.06-.94 2.06-2.06.94zm-11 1L8.5 8.5l.94-2.06 2.06-.94-2.06-.94L8.5 2.5l-.94 2.06-2.06.94zm10 10l.94 2.06.94-2.06 2.06-.94-2.06-.94-.94-2.06-.94 2.06-2.06.94z\"/><path d=\"M17.41 7.96l-1.37-1.37c-.4-.4-.92-.59-1.43-.59-.52 0-1.04.2-1.43.59L10.3 9.45l-7.72 7.72c-.78.78-.78 2.05 0 2.83L4 21.41c.39.39.9.59 1.41.59.51 0 1.02-.2 1.41-.59l7.78-7.78 2.81-2.81c.8-.78.8-2.07 0-2.86zM5.41 20L4 18.59l7.72-7.72 1.47 1.35L5.41 20z\"/>\n",
              "  </svg>\n",
              "      </button>\n",
              "      \n",
              "  <style>\n",
              "    .colab-df-container {\n",
              "      display:flex;\n",
              "      flex-wrap:wrap;\n",
              "      gap: 12px;\n",
              "    }\n",
              "\n",
              "    .colab-df-convert {\n",
              "      background-color: #E8F0FE;\n",
              "      border: none;\n",
              "      border-radius: 50%;\n",
              "      cursor: pointer;\n",
              "      display: none;\n",
              "      fill: #1967D2;\n",
              "      height: 32px;\n",
              "      padding: 0 0 0 0;\n",
              "      width: 32px;\n",
              "    }\n",
              "\n",
              "    .colab-df-convert:hover {\n",
              "      background-color: #E2EBFA;\n",
              "      box-shadow: 0px 1px 2px rgba(60, 64, 67, 0.3), 0px 1px 3px 1px rgba(60, 64, 67, 0.15);\n",
              "      fill: #174EA6;\n",
              "    }\n",
              "\n",
              "    [theme=dark] .colab-df-convert {\n",
              "      background-color: #3B4455;\n",
              "      fill: #D2E3FC;\n",
              "    }\n",
              "\n",
              "    [theme=dark] .colab-df-convert:hover {\n",
              "      background-color: #434B5C;\n",
              "      box-shadow: 0px 1px 3px 1px rgba(0, 0, 0, 0.15);\n",
              "      filter: drop-shadow(0px 1px 2px rgba(0, 0, 0, 0.3));\n",
              "      fill: #FFFFFF;\n",
              "    }\n",
              "  </style>\n",
              "\n",
              "      <script>\n",
              "        const buttonEl =\n",
              "          document.querySelector('#df-80751041-473c-4928-9ff6-f44e903b76b2 button.colab-df-convert');\n",
              "        buttonEl.style.display =\n",
              "          google.colab.kernel.accessAllowed ? 'block' : 'none';\n",
              "\n",
              "        async function convertToInteractive(key) {\n",
              "          const element = document.querySelector('#df-80751041-473c-4928-9ff6-f44e903b76b2');\n",
              "          const dataTable =\n",
              "            await google.colab.kernel.invokeFunction('convertToInteractive',\n",
              "                                                     [key], {});\n",
              "          if (!dataTable) return;\n",
              "\n",
              "          const docLinkHtml = 'Like what you see? Visit the ' +\n",
              "            '<a target=\"_blank\" href=https://colab.research.google.com/notebooks/data_table.ipynb>data table notebook</a>'\n",
              "            + ' to learn more about interactive tables.';\n",
              "          element.innerHTML = '';\n",
              "          dataTable['output_type'] = 'display_data';\n",
              "          await google.colab.output.renderOutput(dataTable, element);\n",
              "          const docLink = document.createElement('div');\n",
              "          docLink.innerHTML = docLinkHtml;\n",
              "          element.appendChild(docLink);\n",
              "        }\n",
              "      </script>\n",
              "    </div>\n",
              "  </div>\n",
              "  "
            ]
          },
          "metadata": {},
          "execution_count": 322
        }
      ]
    },
    {
      "cell_type": "markdown",
      "metadata": {
        "id": "lQ2G4ZPDVOXE"
      },
      "source": [
        "## 8. Challenging the solution"
      ]
    },
    {
      "cell_type": "markdown",
      "source": [
        "\n",
        "\n",
        "> Discriminant analysis\n",
        "\n"
      ],
      "metadata": {
        "id": "HIHdgqHu52wh"
      }
    },
    {
      "cell_type": "code",
      "source": [
        "# Dividing the dataset into features and corresponding labels and then divide the resultant dataset into training and test sets. \n",
        "# The following code divides data into labels and feature set. \n",
        "\n",
        "# The code assigns the first four columns of the dataset i.e. the feature set to q variable \n",
        "# while the values in the first column (labels) are assigned to the p variable.\n",
        "#\n",
        "p = Data.iloc[:, 3].values\n",
        "q = Data.iloc[:, 0:3].values\n"
      ],
      "metadata": {
        "id": "00cNH1yfp6Oi"
      },
      "execution_count": null,
      "outputs": []
    },
    {
      "cell_type": "code",
      "source": [
        "# Dividing data into training and test sets\n",
        "#\n",
        "from sklearn.model_selection import train_test_split\n",
        "q_train, q_test, p_train, p_test = train_test_split(q, p, test_size=0.2, random_state=0)"
      ],
      "metadata": {
        "id": "FcFiReN4p6L-"
      },
      "execution_count": null,
      "outputs": []
    },
    {
      "cell_type": "code",
      "source": [
        "# Feature scaling\n",
        "# Performing feature scaling. \n",
        "# \n",
        "from sklearn.preprocessing import StandardScaler\n",
        "sc = StandardScaler()\n",
        "q_train = sc.fit_transform(q_train)\n",
        "q_test = sc.transform(q_test)"
      ],
      "metadata": {
        "id": "XbXuMl65p6Gq"
      },
      "execution_count": null,
      "outputs": []
    },
    {
      "cell_type": "code",
      "source": [
        "# Peforming LDA\n",
        "#\n",
        "\n",
        "from sklearn.discriminant_analysis import LinearDiscriminantAnalysis as LDA\n",
        "lda = LDA(n_components=1)\n",
        "q_train = lda.fit_transform(q_train, p_train)\n",
        "q_test = lda.ansform(q_test)\n"
      ],
      "metadata": {
        "id": "B6G9RDBVp6C3"
      },
      "execution_count": null,
      "outputs": []
    },
    {
      "cell_type": "code",
      "source": [
        "# Training and Making Predictions\n",
        "# We will use the random forest classifier to evaluate the performance of a PCA-reduced algorithms as shown\n",
        "# \n",
        "\n",
        "from sklearn.ensemble import RandomForestClassifier\n",
        "\n",
        "classifier = RandomForestClassifier(max_depth=2, random_state=0)\n",
        "classifier.fit(q_train, p_train)\n",
        "p_pred = classifier.predict(q_test)"
      ],
      "metadata": {
        "id": "22fNDD0dp59f"
      },
      "execution_count": null,
      "outputs": []
    },
    {
      "cell_type": "code",
      "source": [
        "# Evaluating the Performance\n",
        "# As always, the last step is to evaluate performance of the algorithm \n",
        "# with the help of a confusion matrix and find the accuracy of the prediction.\n",
        "# \n",
        "\n",
        "from sklearn.metrics import confusion_matrix\n",
        "from sklearn.metrics import accuracy_score\n",
        "\n",
        "cm = confusion_matrix(p_test, p_pred)\n",
        "print(cm)\n",
        "print('Accuracy' + str(accuracy_score(p_test, p_pred)))\n",
        "\n",
        "# We can see that with one linear discriminant, the algorithm achieved an accuracy of 72%, \n",
        "# which is less than the accuracy achieved with one principal component, which was 84.96%."
      ],
      "metadata": {
        "colab": {
          "base_uri": "https://localhost:8080/"
        },
        "id": "055myeSWp53N",
        "outputId": "7503fc50-c737-43e9-ca34-ca93117b2e79"
      },
      "execution_count": null,
      "outputs": [
        {
          "output_type": "stream",
          "name": "stdout",
          "text": [
            "[[   0    0    2]\n",
            " [   0 2417  457]\n",
            " [   0  831  998]]\n",
            "Accuracy0.7258235919234857\n"
          ]
        }
      ]
    },
    {
      "cell_type": "code",
      "metadata": {
        "id": "j3x3SXZ4XT_L"
      },
      "source": [
        "# Answering the question.\n",
        "# The factors that may be used to predict if an individual has a bank account are\n",
        "\n",
        "#  Location(Urban is most likely to have a bank account)\n",
        "#  Access to a cell phone(access to cell phone is most likely to have a bank account)\n",
        "#  Type of job\n",
        "#  Education level\n",
        "#  and Age."
      ],
      "execution_count": null,
      "outputs": []
    },
    {
      "cell_type": "markdown",
      "metadata": {
        "id": "xrmHVMVsVS--"
      },
      "source": [
        "## 9. Follow up questions"
      ]
    },
    {
      "cell_type": "markdown",
      "metadata": {
        "id": "pth2qSWhuBIy"
      },
      "source": [
        "> At this point, we can refine our question or collect new data, all in an iterative process to get at the truth.\n",
        "\n"
      ]
    },
    {
      "cell_type": "markdown",
      "metadata": {
        "id": "HPQviDmNtta8"
      },
      "source": [
        "### a). Did we have the right data?\n",
        "*     Yes, because we were able to draw inferences from it."
      ]
    },
    {
      "cell_type": "markdown",
      "metadata": {
        "id": "qjFHK1CKty7o"
      },
      "source": [
        "### b). Do we need other data to answer our question?\n",
        "*      No. This data is sufficient for the question since we have been able to answer the research question fully."
      ]
    },
    {
      "cell_type": "markdown",
      "metadata": {
        "id": "HSsicSdvt4Zs"
      },
      "source": [
        "### c). Did we have the right question?\n",
        "*       Yes, the right question."
      ]
    }
  ]
}